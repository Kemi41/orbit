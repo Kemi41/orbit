{
  "nbformat": 4,
  "nbformat_minor": 0,
  "metadata": {
    "colab": {
      "name": "Week2-1.ipynb",
      "provenance": [],
      "authorship_tag": "ABX9TyMW73EuBZsVAdPrlagAW9Eg",
      "include_colab_link": true
    },
    "kernelspec": {
      "name": "python3",
      "display_name": "Python 3"
    },
    "language_info": {
      "name": "python"
    }
  },
  "cells": [
    {
      "cell_type": "markdown",
      "metadata": {
        "id": "view-in-github",
        "colab_type": "text"
      },
      "source": [
        "<a href=\"https://colab.research.google.com/github/Kemi41/orbit/blob/main/Week2_1.ipynb\" target=\"_parent\"><img src=\"https://colab.research.google.com/assets/colab-badge.svg\" alt=\"Open In Colab\"/></a>"
      ]
    },
    {
      "cell_type": "code",
      "metadata": {
        "id": "cA_6sbthIj61"
      },
      "source": [
        "import pandas as pd\n",
        "import numpy as np\n",
        "import seaborn as sns\n",
        "from sklearn.cluster import KMeans\n",
        "import matplotlib.pyplot as plt"
      ],
      "execution_count": 1,
      "outputs": []
    },
    {
      "cell_type": "code",
      "metadata": {
        "id": "tL0E77D4RhuL"
      },
      "source": [
        "harga = [700,1400,2100,2800,3500,4200,4900,5600]\n",
        "ukuran = [50,100,150,200,250,300,400,500]\n",
        "\n",
        "data = {'Harga' : harga,\n",
        "        'Ukuran' : ukuran}"
      ],
      "execution_count": 2,
      "outputs": []
    },
    {
      "cell_type": "code",
      "metadata": {
        "id": "5xVKZX2-JBzD"
      },
      "source": [
        "df = pd.DataFrame(data)"
      ],
      "execution_count": 3,
      "outputs": []
    },
    {
      "cell_type": "code",
      "metadata": {
        "colab": {
          "base_uri": "https://localhost:8080/",
          "height": 300
        },
        "id": "hUHPhI4EJoRD",
        "outputId": "2e1dadb9-63bb-4805-c7f6-6b42136b2b1c"
      },
      "source": [
        "df"
      ],
      "execution_count": 4,
      "outputs": [
        {
          "output_type": "execute_result",
          "data": {
            "text/html": [
              "<div>\n",
              "<style scoped>\n",
              "    .dataframe tbody tr th:only-of-type {\n",
              "        vertical-align: middle;\n",
              "    }\n",
              "\n",
              "    .dataframe tbody tr th {\n",
              "        vertical-align: top;\n",
              "    }\n",
              "\n",
              "    .dataframe thead th {\n",
              "        text-align: right;\n",
              "    }\n",
              "</style>\n",
              "<table border=\"1\" class=\"dataframe\">\n",
              "  <thead>\n",
              "    <tr style=\"text-align: right;\">\n",
              "      <th></th>\n",
              "      <th>Harga</th>\n",
              "      <th>Ukuran</th>\n",
              "    </tr>\n",
              "  </thead>\n",
              "  <tbody>\n",
              "    <tr>\n",
              "      <th>0</th>\n",
              "      <td>700</td>\n",
              "      <td>50</td>\n",
              "    </tr>\n",
              "    <tr>\n",
              "      <th>1</th>\n",
              "      <td>1400</td>\n",
              "      <td>100</td>\n",
              "    </tr>\n",
              "    <tr>\n",
              "      <th>2</th>\n",
              "      <td>2100</td>\n",
              "      <td>150</td>\n",
              "    </tr>\n",
              "    <tr>\n",
              "      <th>3</th>\n",
              "      <td>2800</td>\n",
              "      <td>200</td>\n",
              "    </tr>\n",
              "    <tr>\n",
              "      <th>4</th>\n",
              "      <td>3500</td>\n",
              "      <td>250</td>\n",
              "    </tr>\n",
              "    <tr>\n",
              "      <th>5</th>\n",
              "      <td>4200</td>\n",
              "      <td>300</td>\n",
              "    </tr>\n",
              "    <tr>\n",
              "      <th>6</th>\n",
              "      <td>4900</td>\n",
              "      <td>400</td>\n",
              "    </tr>\n",
              "    <tr>\n",
              "      <th>7</th>\n",
              "      <td>5600</td>\n",
              "      <td>500</td>\n",
              "    </tr>\n",
              "  </tbody>\n",
              "</table>\n",
              "</div>"
            ],
            "text/plain": [
              "   Harga  Ukuran\n",
              "0    700      50\n",
              "1   1400     100\n",
              "2   2100     150\n",
              "3   2800     200\n",
              "4   3500     250\n",
              "5   4200     300\n",
              "6   4900     400\n",
              "7   5600     500"
            ]
          },
          "metadata": {},
          "execution_count": 4
        }
      ]
    },
    {
      "cell_type": "code",
      "metadata": {
        "colab": {
          "base_uri": "https://localhost:8080/",
          "height": 298
        },
        "id": "3nMBQp5SJ6zG",
        "outputId": "fbb323e8-7672-4454-eb94-38bd60fc63e3"
      },
      "source": [
        "sns.set_style(\"darkgrid\")\n",
        "sns.scatterplot(data=df, x=\"Harga\", \n",
        "                y=\"Ukuran\")"
      ],
      "execution_count": 5,
      "outputs": [
        {
          "output_type": "execute_result",
          "data": {
            "text/plain": [
              "<matplotlib.axes._subplots.AxesSubplot at 0x7f0265a59b50>"
            ]
          },
          "metadata": {},
          "execution_count": 5
        },
        {
          "output_type": "display_data",
          "data": {
            "image/png": "[encoded data removed]",
            "text/plain": [
              "<Figure size 432x288 with 1 Axes>"
            ]
          },
          "metadata": {}
        }
      ]
    },
    {
      "cell_type": "markdown",
      "metadata": {
        "id": "mR_h3uNQvmJr"
      },
      "source": [
        "#**Data plot dan model regresi linier**"
      ]
    },
    {
      "cell_type": "code",
      "metadata": {
        "colab": {
          "base_uri": "https://localhost:8080/",
          "height": 414
        },
        "id": "mp_Zi-fDkpYh",
        "outputId": "f2978e84-8939-43a8-da68-7dcf17a7c364"
      },
      "source": [
        "sns.set_style(\"whitegrid\")\n",
        "ax = sns.regplot(data=df, x=\"Harga\", \n",
        "                y=\"Ukuran\")\n",
        "\n",
        "yt = np.array([0, 100, 200, 300, 400, 500, 600])\n",
        "yx = yt*10\n",
        "ax.set_yticks(yt)\n",
        "ax.set_xticks(yx)"
      ],
      "execution_count": 6,
      "outputs": [
        {
          "output_type": "execute_result",
          "data": {
            "text/plain": [
              "[<matplotlib.axis.XTick at 0x7f0265a35f10>,\n",
              " <matplotlib.axis.XTick at 0x7f02656cc110>,\n",
              " <matplotlib.axis.XTick at 0x7f02656d21d0>,\n",
              " <matplotlib.axis.XTick at 0x7f0265253990>,\n",
              " <matplotlib.axis.XTick at 0x7f0265253ed0>,\n",
              " <matplotlib.axis.XTick at 0x7f026525d450>,\n",
              " <matplotlib.axis.XTick at 0x7f0265253390>]"
            ]
          },
          "metadata": {},
          "execution_count": 6
        },
        {
          "output_type": "display_data",
          "data": {
            "image/png": "[encoded data removed]",
            "text/plain": [
              "<Figure size 432x288 with 1 Axes>"
            ]
          },
          "metadata": {}
        }
      ]
    },
    {
      "cell_type": "markdown",
      "metadata": {
        "id": "rBhhOTwKv0B1"
      },
      "source": [
        "#**Korelasi**"
      ]
    },
    {
      "cell_type": "code",
      "metadata": {
        "colab": {
          "base_uri": "https://localhost:8080/",
          "height": 288
        },
        "id": "2Wz8CI5VmZmd",
        "outputId": "8f6219fd-f890-4348-9f10-4be2ab4523a5"
      },
      "source": [
        "datacor = df.corr()\n",
        "sns.heatmap(datacor)"
      ],
      "execution_count": 7,
      "outputs": [
        {
          "output_type": "execute_result",
          "data": {
            "text/plain": [
              "<matplotlib.axes._subplots.AxesSubplot at 0x7f02806c5490>"
            ]
          },
          "metadata": {},
          "execution_count": 7
        },
        {
          "output_type": "display_data",
          "data": {
            "image/png": "[encoded data removed]",
            "text/plain": [
              "<Figure size 432x288 with 2 Axes>"
            ]
          },
          "metadata": {}
        }
      ]
    },
    {
      "cell_type": "code",
      "metadata": {
        "colab": {
          "base_uri": "https://localhost:8080/"
        },
        "id": "dNLmquATN7ET",
        "outputId": "ade50280-8e6d-4300-c98f-1be862b0c4a2"
      },
      "source": [
        "X = np.asarray(df)\n",
        "print (X)"
      ],
      "execution_count": 8,
      "outputs": [
        {
          "output_type": "stream",
          "name": "stdout",
          "text": [
            "[[ 700   50]\n",
            " [1400  100]\n",
            " [2100  150]\n",
            " [2800  200]\n",
            " [3500  250]\n",
            " [4200  300]\n",
            " [4900  400]\n",
            " [5600  500]]\n"
          ]
        }
      ]
    },
    {
      "cell_type": "code",
      "metadata": {
        "id": "Xep3XGL49H_G"
      },
      "source": [
        "distortions = []\n",
        "K = range(1,5)\n",
        "for k in K:\n",
        "    kmeanModel = KMeans(n_clusters=k)\n",
        "    kmeanModel.fit(df)\n",
        "    distortions.append(kmeanModel.inertia_)"
      ],
      "execution_count": 19,
      "outputs": []
    },
    {
      "cell_type": "markdown",
      "metadata": {
        "id": "6I-agWwnDlVm"
      },
      "source": [
        "*distortions adalah variabel yang berisi Sum of squared Error*"
      ]
    },
    {
      "cell_type": "code",
      "metadata": {
        "colab": {
          "base_uri": "https://localhost:8080/",
          "height": 241
        },
        "id": "ej03MgP-9PaM",
        "outputId": "4efb0fc1-9c4c-4509-89b2-f077329b965b"
      },
      "source": [
        "plt.figure(figsize=(6,3))\n",
        "plt.plot(K, distortions)\n",
        "plt.xlabel('Jumlah Centroid')\n",
        "plt.ylabel('Distorsi')\n",
        "plt.title('Grafik Elbow')\n",
        "plt.show()  "
      ],
      "execution_count": 23,
      "outputs": [
        {
          "output_type": "display_data",
          "data": {
            "image/png": "[encoded data removed]",
            "text/plain": [
              "<Figure size 432x216 with 1 Axes>"
            ]
          },
          "metadata": {}
        }
      ]
    },
    {
      "cell_type": "code",
      "metadata": {
        "colab": {
          "base_uri": "https://localhost:8080/"
        },
        "id": "FlKpkTC9OEcY",
        "outputId": "e6cb6700-8482-4cc0-bd5c-aadf8784391f"
      },
      "source": [
        "kmeans = KMeans(n_clusters=3)\n",
        "kmeans.fit(X)"
      ],
      "execution_count": 9,
      "outputs": [
        {
          "output_type": "execute_result",
          "data": {
            "text/plain": [
              "KMeans(algorithm='auto', copy_x=True, init='k-means++', max_iter=300,\n",
              "       n_clusters=3, n_init=10, n_jobs=None, precompute_distances='auto',\n",
              "       random_state=None, tol=0.0001, verbose=0)"
            ]
          },
          "metadata": {},
          "execution_count": 9
        }
      ]
    },
    {
      "cell_type": "code",
      "metadata": {
        "id": "U4Q3W7M0htga"
      },
      "source": [
        "cluster_cent = kmeans.cluster_centers_"
      ],
      "execution_count": 10,
      "outputs": []
    },
    {
      "cell_type": "code",
      "metadata": {
        "colab": {
          "base_uri": "https://localhost:8080/",
          "height": 314
        },
        "id": "fDcHlPiIOHyx",
        "outputId": "73dc3a8f-5cd5-48ad-e8ae-9d5e157864fd"
      },
      "source": [
        "#plot data\n",
        "plt.scatter(X[:,0],X[:,1], c=kmeans.labels_,  cmap='rainbow', s=65)\n",
        "\n",
        "#plot centroid\n",
        "plt.scatter(cluster_cent[:,0],cluster_cent[:,1], c='black',\n",
        "            marker='x')\n",
        "\n",
        "plt.xlabel(\"Harga\")\n",
        "plt.ylabel(\"Ukuran\")\n",
        "plt.title(\"Grafik Cluster \")\n",
        "plt.legend(['Data', 'Centroid'])\n",
        "plt.show"
      ],
      "execution_count": 13,
      "outputs": [
        {
          "output_type": "execute_result",
          "data": {
            "text/plain": [
              "<function matplotlib.pyplot.show>"
            ]
          },
          "metadata": {},
          "execution_count": 13
        },
        {
          "output_type": "display_data",
          "data": {
            "image/png": "[encoded data removed]",
            "text/plain": [
              "<Figure size 432x288 with 1 Axes>"
            ]
          },
          "metadata": {}
        }
      ]
    },
    {
      "cell_type": "markdown",
      "metadata": {
        "id": "djzOsKsgv_aY"
      },
      "source": [
        "#**Nilai Centroid hasil K-Means Cluster**"
      ]
    },
    {
      "cell_type": "code",
      "metadata": {
        "colab": {
          "base_uri": "https://localhost:8080/"
        },
        "id": "hRyOa_-xioqf",
        "outputId": "3a940cc8-76c6-45de-f2d1-cd62707f3419"
      },
      "source": [
        "cluster_cent"
      ],
      "execution_count": 12,
      "outputs": [
        {
          "output_type": "execute_result",
          "data": {
            "text/plain": [
              "array([[1400.,  100.],\n",
              "       [5250.,  450.],\n",
              "       [3500.,  250.]])"
            ]
          },
          "metadata": {},
          "execution_count": 12
        }
      ]
    }
  ]
}
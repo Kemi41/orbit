{
  "nbformat": 4,
  "nbformat_minor": 0,
  "metadata": {
    "colab": {
      "name": "intro ai python.ipynb",
      "provenance": [],
      "collapsed_sections": [
        "vdWlI9_l59k-"
      ],
      "include_colab_link": true
    },
    "kernelspec": {
      "display_name": "Python 3",
      "name": "python3"
    },
    "language_info": {
      "name": "python"
    }
  },
  "cells": [
    {
      "cell_type": "markdown",
      "metadata": {
        "id": "view-in-github",
        "colab_type": "text"
      },
      "source": [
        "<a href=\"https://colab.research.google.com/github/Kemi41/orbit/blob/main/intro_ai_python.ipynb\" target=\"_parent\"><img src=\"https://colab.research.google.com/assets/colab-badge.svg\" alt=\"Open In Colab\"/></a>"
      ]
    },
    {
      "cell_type": "markdown",
      "metadata": {
        "id": "F9RmP8oJEr-8"
      },
      "source": [
        "# Pengenalan AI dengan Python\n",
        "Sebelum lanjut, harap:\n",
        "1. Jika menggunakan jupyter, silahkan pilih \"File\" --> \"Download\" --> \"Download .ipynb\"\n",
        "2. Jika menggunakan colab, silahkan pilih \"File\" --> \"Save a copy in drive\""
      ]
    },
    {
      "cell_type": "markdown",
      "metadata": {
        "id": "ttcCioV2TWeK"
      },
      "source": [
        "Materi : \n",
        "1. Reading & Writing File\n",
        "2. Operasi Matematika & Numpy\n",
        "3. Pandas & Statistik Deskriptif\n",
        "4. Library untuk Visualisasi"
      ]
    },
    {
      "cell_type": "markdown",
      "metadata": {
        "id": "WZgEMeZ7JLNm"
      },
      "source": [
        "## Reading & Writing File"
      ]
    },
    {
      "cell_type": "markdown",
      "metadata": {
        "id": "Fnd29cqZ4uTK"
      },
      "source": [
        "### Fungsi 'open'\n",
        "1. Struktur menggunakan \"with\"\n",
        "<img src=\"https://s3-api.us-geo.objectstorage.softlayer.net/cf-courses-data/CognitiveClass/PY0101EN/Chapter%204/Images/ReadWith.png\" width=\"500\" />\n",
        "\n",
        "2. Struktur menggunakan \"file object\"\n",
        "<img src=\"https://s3-api.us-geo.objectstorage.softlayer.net/cf-courses-data/CognitiveClass/PY0101EN/Chapter%204/Images/ReadOpen.png\" width=\"500\" />\n",
        "\n",
        "Keterangan mode:\n",
        "*   Read (kode: **r**) – membaca sebuah file (**r+** artinya sekaligus menulis)\n",
        "*   Write (kode: **w**) – menulis sebuah file (**w+** artinya sekaligus membaca)\n",
        "*   Append (kode: **a**) – menambah isi sebuah file (**a+** artinya sekaligus membaca)\n"
      ]
    },
    {
      "cell_type": "code",
      "metadata": {
        "id": "O1tkv-JEnLlu"
      },
      "source": [
        "import os\n",
        "#Menambah folder 'latihan' \n",
        "os.makedirs('latihan')"
      ],
      "execution_count": 1,
      "outputs": []
    },
    {
      "cell_type": "code",
      "metadata": {
        "id": "lSms7K9V95BU"
      },
      "source": [
        "#Menulis file baru\n",
        "with open('latihan/contoh.txt', 'w') as c:\n",
        "  c.write('saya keren.')                    #hanya bisa menulis karena modenya \"w\" bukan \"w+\""
      ],
      "execution_count": 2,
      "outputs": []
    },
    {
      "cell_type": "code",
      "metadata": {
        "colab": {
          "base_uri": "https://localhost:8080/",
          "height": 53
        },
        "id": "XOHOWBbZ93KA",
        "outputId": "935b1068-f459-4d9c-8c05-a845f1ed4ed4"
      },
      "source": [
        "#Membaca file dengan \"with\"\n",
        "with open('latihan/contoh.txt', 'r') as c:\n",
        "    print(c.read())\n",
        "\n",
        "#Membaca file dengan \"file object\"\n",
        "file = open('latihan/contoh.txt', 'r')\n",
        "file.read()"
      ],
      "execution_count": 3,
      "outputs": [
        {
          "output_type": "stream",
          "name": "stdout",
          "text": [
            "saya keren.\n"
          ]
        },
        {
          "output_type": "execute_result",
          "data": {
            "application/vnd.google.colaboratory.intrinsic+json": {
              "type": "string"
            },
            "text/plain": [
              "'saya keren.'"
            ]
          },
          "metadata": {},
          "execution_count": 3
        }
      ]
    },
    {
      "cell_type": "markdown",
      "metadata": {
        "id": "YfCzYjMsHsPQ"
      },
      "source": [
        "### Membedakan \"write\" dan \"append\""
      ]
    },
    {
      "cell_type": "code",
      "metadata": {
        "colab": {
          "base_uri": "https://localhost:8080/",
          "height": 35
        },
        "id": "CyviqdwBFkP-",
        "outputId": "d8110f0b-f904-43f2-fe2f-74c1c4cd8ee9"
      },
      "source": [
        "#Append\n",
        "file = open('latihan/contoh.txt', 'a+')\n",
        "file.write(' belajar AI menyenangkan.')\n",
        "file.seek(0)                          #seek(0) artinya mulai dari huruf yang pertama (index 0)\n",
        "file.read()                           #bisa sekaligus read karena modenya \"a+\""
      ],
      "execution_count": 4,
      "outputs": [
        {
          "output_type": "execute_result",
          "data": {
            "application/vnd.google.colaboratory.intrinsic+json": {
              "type": "string"
            },
            "text/plain": [
              "'saya keren. belajar AI menyenangkan.'"
            ]
          },
          "metadata": {},
          "execution_count": 4
        }
      ]
    },
    {
      "cell_type": "code",
      "metadata": {
        "colab": {
          "base_uri": "https://localhost:8080/",
          "height": 35
        },
        "id": "gOFk_bC0IA3F",
        "outputId": "f815c165-6401-4e4c-ef6b-00e3ed782c82"
      },
      "source": [
        "#Write\n",
        "file = open('latihan/contoh.txt', 'w+')\n",
        "file.write(' belajar AI menyenangkan.')\n",
        "file.seek(0)                          #seek(0) artinya mulai dari huruf yang pertama (index 0)\n",
        "file.read()                           #bisa sekaligus read karena modenya \"w+\""
      ],
      "execution_count": 5,
      "outputs": [
        {
          "output_type": "execute_result",
          "data": {
            "application/vnd.google.colaboratory.intrinsic+json": {
              "type": "string"
            },
            "text/plain": [
              "' belajar AI menyenangkan.'"
            ]
          },
          "metadata": {},
          "execution_count": 5
        }
      ]
    },
    {
      "cell_type": "markdown",
      "metadata": {
        "id": "ZmKKOMhFIIR_"
      },
      "source": [
        "Bisa kah kamu melihat perbedaannya?"
      ]
    },
    {
      "cell_type": "code",
      "metadata": {
        "colab": {
          "base_uri": "https://localhost:8080/"
        },
        "id": "7dOhVBlg-acT",
        "outputId": "0427917a-7a10-42f2-a788-0fd8ca41e35f"
      },
      "source": [
        "#Mengetahui nama file dan lokasinya\n",
        "print(file.name)\n",
        "\n",
        "#Mengetahui mode dari file\n",
        "print(file.mode)"
      ],
      "execution_count": 6,
      "outputs": [
        {
          "output_type": "stream",
          "name": "stdout",
          "text": [
            "latihan/contoh.txt\n",
            "w+\n"
          ]
        }
      ]
    },
    {
      "cell_type": "markdown",
      "metadata": {
        "id": "oREZu1YaJe4l"
      },
      "source": [
        "### Latihan 1 (menulis file)\n",
        "\n",
        "Buat file baru di folder \"latihan\", namanya \"kata bung karno.txt\". Isinya : \"Bermimpilah setinggi langit. Jika engkau jatuh, kau kan jatuh di antara bintang-bintang. \""
      ]
    },
    {
      "cell_type": "code",
      "metadata": {
        "colab": {
          "base_uri": "https://localhost:8080/"
        },
        "id": "uxPw2hOfLyN4",
        "outputId": "1b447bea-b9fd-476d-d69a-319371e01887"
      },
      "source": [
        "#Tulis jawabanmu disini\n",
        "\n",
        "import os\n",
        "\n",
        "#Menambah folder 'latihan' \n",
        "os.makedirs('latihann')\n",
        "\n",
        "#Menulis file baru\n",
        "with open('latihan/kata bung karno.txt', 'w') as c:\n",
        "  c.write('Bermimpilah setinggi langit. Jika engkau jatuh, kau kan jatuh di antara bintang-bintang.')\n",
        "\n",
        "#Membaca file dengan \"with\"\n",
        "with open('latihan/kata bung karno.txt', 'r') as c:\n",
        "    print(c.read())\n"
      ],
      "execution_count": 7,
      "outputs": [
        {
          "output_type": "stream",
          "name": "stdout",
          "text": [
            "Bermimpilah setinggi langit. Jika engkau jatuh, kau kan jatuh di antara bintang-bintang.\n"
          ]
        }
      ]
    },
    {
      "cell_type": "markdown",
      "metadata": {
        "id": "-RX-DtsEFC5r"
      },
      "source": [
        "## Operasi Matematika & Numpy\n",
        "Numpy → library untuk membantu operasi matematika di python.\n"
      ]
    },
    {
      "cell_type": "code",
      "metadata": {
        "id": "DBVuNosPErdc"
      },
      "source": [
        "import numpy as np"
      ],
      "execution_count": 8,
      "outputs": []
    },
    {
      "cell_type": "markdown",
      "metadata": {
        "id": "GWGWrUU_QOR6"
      },
      "source": [
        "### Pengenalan array"
      ]
    },
    {
      "cell_type": "code",
      "metadata": {
        "id": "rojHc0kGGJVw",
        "colab": {
          "base_uri": "https://localhost:8080/"
        },
        "outputId": "e7fd32ec-3c10-4927-fcd6-2b7c9ba83372"
      },
      "source": [
        "#1D array\n",
        "a = np.array([3, 1, 5, 6])\n",
        "print('banyaknya entry = ', a.size)\n",
        "print('dimensi array = ', a.ndim)\n",
        "print('ukuran array = ', a.shape)"
      ],
      "execution_count": 9,
      "outputs": [
        {
          "output_type": "stream",
          "name": "stdout",
          "text": [
            "banyaknya entry =  4\n",
            "dimensi array =  1\n",
            "ukuran array =  (4,)\n"
          ]
        }
      ]
    },
    {
      "cell_type": "code",
      "metadata": {
        "id": "Ay-3fo-sIOqV",
        "colab": {
          "base_uri": "https://localhost:8080/"
        },
        "outputId": "47a57b2d-161b-4ebc-bad9-26f66e3a239f"
      },
      "source": [
        "#Slicing\n",
        "a[1:]"
      ],
      "execution_count": 10,
      "outputs": [
        {
          "output_type": "execute_result",
          "data": {
            "text/plain": [
              "array([1, 5, 6])"
            ]
          },
          "metadata": {},
          "execution_count": 10
        }
      ]
    },
    {
      "cell_type": "code",
      "metadata": {
        "id": "kfeTP-8qHBVx",
        "colab": {
          "base_uri": "https://localhost:8080/"
        },
        "outputId": "6fa87967-a243-4d22-86d1-5fbc2775f06b"
      },
      "source": [
        "print('a[1:3] = ', a[1:3])\n",
        "print('a[:3] = ', a[:3])"
      ],
      "execution_count": 11,
      "outputs": [
        {
          "output_type": "stream",
          "name": "stdout",
          "text": [
            "a[1:3] =  [1 5]\n",
            "a[:3] =  [3 1 5]\n"
          ]
        }
      ]
    },
    {
      "cell_type": "code",
      "metadata": {
        "id": "myrQM61bHn2t",
        "colab": {
          "base_uri": "https://localhost:8080/"
        },
        "outputId": "3b97b1fb-7a61-4714-dbcb-fc63a304ccb3"
      },
      "source": [
        "#2D Array (Matriks)\n",
        "A = np.array([[1, 2, 3], [4, 5, 6], [7, 8, 9]])\n",
        "print(A)"
      ],
      "execution_count": 12,
      "outputs": [
        {
          "output_type": "stream",
          "name": "stdout",
          "text": [
            "[[1 2 3]\n",
            " [4 5 6]\n",
            " [7 8 9]]\n"
          ]
        }
      ]
    },
    {
      "cell_type": "markdown",
      "metadata": {
        "id": "7LxTP-IdLaSa"
      },
      "source": [
        "###Latihan-2 (2D array)"
      ]
    },
    {
      "cell_type": "code",
      "metadata": {
        "id": "2ncKwccePLyf",
        "colab": {
          "base_uri": "https://localhost:8080/"
        },
        "outputId": "b649f156-6a52-48f2-ef34-545a8d3190ae"
      },
      "source": [
        "#Lengkapi kodingan berikut\n",
        "print('banyaknya entry = ', )\n",
        "print('dimensi array = ', )\n",
        "print('ukuran array = ', )"
      ],
      "execution_count": 13,
      "outputs": [
        {
          "output_type": "stream",
          "name": "stdout",
          "text": [
            "banyaknya entry = \n",
            "dimensi array = \n",
            "ukuran array = \n"
          ]
        }
      ]
    },
    {
      "cell_type": "code",
      "metadata": {
        "id": "LAmNOJZYGrNY",
        "colab": {
          "base_uri": "https://localhost:8080/"
        },
        "outputId": "268dd00f-6657-4ae8-a36d-05651d81a7dc"
      },
      "source": [
        "#Slicing\n",
        "print('baris ke-2 = ', A[1])\n",
        "print('entry ke-2 & 3 baris ke-2 = ', A[1, 1:])\n",
        "print('entry pertama & 2 kolom ke-2 = ', A[:2, 1])"
      ],
      "execution_count": 14,
      "outputs": [
        {
          "output_type": "stream",
          "name": "stdout",
          "text": [
            "baris ke-2 =  [4 5 6]\n",
            "entry ke-2 & 3 baris ke-2 =  [5 6]\n",
            "entry pertama & 2 kolom ke-2 =  [2 5]\n"
          ]
        }
      ]
    },
    {
      "cell_type": "markdown",
      "metadata": {
        "id": "dabJyOB3L6Kb"
      },
      "source": [
        "###Latihan-3 (Slicing)"
      ]
    },
    {
      "cell_type": "code",
      "metadata": {
        "id": "zm20sFkSNbds",
        "colab": {
          "base_uri": "https://localhost:8080/"
        },
        "outputId": "d8b6a630-1c5b-4942-e4fe-ca75b0a0dee4"
      },
      "source": [
        "#Lengkapi kodingan berikut\n",
        "print('baris ke-3 = ', )\n",
        "print('entry ke-1 & 2 baris ke-3 = ', )\n",
        "print('entry ke-2 & 3 kolom ke-3 = ', )"
      ],
      "execution_count": 15,
      "outputs": [
        {
          "output_type": "stream",
          "name": "stdout",
          "text": [
            "baris ke-3 = \n",
            "entry ke-1 & 2 baris ke-3 = \n",
            "entry ke-2 & 3 kolom ke-3 = \n"
          ]
        }
      ]
    },
    {
      "cell_type": "markdown",
      "metadata": {
        "id": "u69Wt0HHOdDh"
      },
      "source": [
        "output jawaban:\n",
        "baris ke-3 =  [7 8 9]\n",
        "\n",
        "entry ke-1 & 2 baris ke-3 =  [7 8]\n",
        "\n",
        "entry ke-2 & 3 kolom ke-3 =  [6 9]"
      ]
    },
    {
      "cell_type": "markdown",
      "metadata": {
        "id": "bQ9RSERjQYu-"
      },
      "source": [
        "### Operasi Matematika di Numpy"
      ]
    },
    {
      "cell_type": "code",
      "metadata": {
        "id": "A7ITbltnVKCK",
        "colab": {
          "base_uri": "https://localhost:8080/"
        },
        "outputId": "dbfa102a-9c34-41a0-d954-3696a8970dd9"
      },
      "source": [
        "C = A*A\n",
        "print('perkalian antar entry = ')\n",
        "print(C)"
      ],
      "execution_count": 16,
      "outputs": [
        {
          "output_type": "stream",
          "name": "stdout",
          "text": [
            "perkalian antar entry = \n",
            "[[ 1  4  9]\n",
            " [16 25 36]\n",
            " [49 64 81]]\n"
          ]
        }
      ]
    },
    {
      "cell_type": "code",
      "metadata": {
        "id": "qs72ZsAJQERO",
        "colab": {
          "base_uri": "https://localhost:8080/"
        },
        "outputId": "a2ba5b10-4449-4ae7-d7be-acc30e505fc8"
      },
      "source": [
        "print('perkalian matriks = ')\n",
        "print(np.matmul(A,A))"
      ],
      "execution_count": 17,
      "outputs": [
        {
          "output_type": "stream",
          "name": "stdout",
          "text": [
            "perkalian matriks = \n",
            "[[ 30  36  42]\n",
            " [ 66  81  96]\n",
            " [102 126 150]]\n"
          ]
        }
      ]
    },
    {
      "cell_type": "markdown",
      "metadata": {
        "id": "DqYW2wD_8HZT"
      },
      "source": [
        "Bisa dilihat perbedaan perkalian antar entry dan perkalian matriks biasa?"
      ]
    },
    {
      "cell_type": "code",
      "metadata": {
        "id": "_esB0rtlQkOp",
        "colab": {
          "base_uri": "https://localhost:8080/"
        },
        "outputId": "c71d6a23-a45d-4450-a61b-a0a70f3c4088"
      },
      "source": [
        "print('determinan matriks A = ', np.linalg.det(A))\n",
        "print('determinan matriks C = ', np.linalg.det(C))"
      ],
      "execution_count": 18,
      "outputs": [
        {
          "output_type": "stream",
          "name": "stdout",
          "text": [
            "determinan matriks A =  0.0\n",
            "determinan matriks C =  -216.00000000000006\n"
          ]
        }
      ]
    },
    {
      "cell_type": "code",
      "metadata": {
        "id": "Joz3Z61TQd6V",
        "colab": {
          "base_uri": "https://localhost:8080/"
        },
        "outputId": "5f2e2458-494e-4204-8854-e09dc5b6f2dc"
      },
      "source": [
        "print('nilai dan vektor eigen matriks A = ', np.linalg.eig(A))"
      ],
      "execution_count": 19,
      "outputs": [
        {
          "output_type": "stream",
          "name": "stdout",
          "text": [
            "nilai dan vektor eigen matriks A =  (array([ 1.61168440e+01, -1.11684397e+00, -9.75918483e-16]), array([[-0.23197069, -0.78583024,  0.40824829],\n",
            "       [-0.52532209, -0.08675134, -0.81649658],\n",
            "       [-0.8186735 ,  0.61232756,  0.40824829]]))\n"
          ]
        }
      ]
    },
    {
      "cell_type": "code",
      "metadata": {
        "id": "YIXOE54OQWWd",
        "colab": {
          "base_uri": "https://localhost:8080/"
        },
        "outputId": "a2e59f9f-52c3-4625-bd1d-65a38f06a9ac"
      },
      "source": [
        "print('nilai eigen matriks A = ', np.linalg.eig(A)[0])"
      ],
      "execution_count": 20,
      "outputs": [
        {
          "output_type": "stream",
          "name": "stdout",
          "text": [
            "nilai eigen matriks A =  [ 1.61168440e+01 -1.11684397e+00 -9.75918483e-16]\n"
          ]
        }
      ]
    },
    {
      "cell_type": "code",
      "metadata": {
        "id": "FjdAWfgKQaf1",
        "colab": {
          "base_uri": "https://localhost:8080/"
        },
        "outputId": "fee273b6-4f97-48f0-c7f4-bfb9d4c346f6"
      },
      "source": [
        "print('vektor eigen matriks A = ', np.linalg.eig(A)[1])"
      ],
      "execution_count": 21,
      "outputs": [
        {
          "output_type": "stream",
          "name": "stdout",
          "text": [
            "vektor eigen matriks A =  [[-0.23197069 -0.78583024  0.40824829]\n",
            " [-0.52532209 -0.08675134 -0.81649658]\n",
            " [-0.8186735   0.61232756  0.40824829]]\n"
          ]
        }
      ]
    },
    {
      "cell_type": "markdown",
      "metadata": {
        "id": "kjS8YZLAMXB_"
      },
      "source": [
        "### Latihan-4 (Operasi matriks)"
      ]
    },
    {
      "cell_type": "code",
      "metadata": {
        "id": "RIH4ROFmGuip"
      },
      "source": [
        "A = np.array([[1, 2], [7,8]])\n",
        "B = np.array([[3, 5], [1,6]])"
      ],
      "execution_count": 22,
      "outputs": []
    },
    {
      "cell_type": "markdown",
      "metadata": {
        "id": "dj6lY65jLBqx"
      },
      "source": [
        "Hitunglah:\n",
        "*   2*A\n",
        "*   2+A\n",
        "*   A+B\n",
        "*   A-B\n",
        "*   determinan A\n",
        "*   invers dari B, simpan jadi matriks D\n",
        "*   transpose D\n",
        "*   nilai eigen dan vektor eigen dari A dan B\n",
        "\n",
        "\n",
        "\n",
        "\n",
        "\n"
      ]
    },
    {
      "cell_type": "code",
      "metadata": {
        "id": "zkywTKVELriJ",
        "colab": {
          "base_uri": "https://localhost:8080/"
        },
        "outputId": "d4678b0d-0448-422b-b5ec-cb8c60f0fdc7"
      },
      "source": [
        "#Ketik Kode disini\n",
        "import numpy as np\n",
        "\n",
        "A = np.array([[1, 2], [7,8]])\n",
        "B = np.array([[3, 5], [1,6]])\n",
        "2 * A\n"
      ],
      "execution_count": 23,
      "outputs": [
        {
          "output_type": "execute_result",
          "data": {
            "text/plain": [
              "array([[ 2,  4],\n",
              "       [14, 16]])"
            ]
          },
          "metadata": {},
          "execution_count": 23
        }
      ]
    },
    {
      "cell_type": "code",
      "metadata": {
        "id": "O6uWBtKSmYqj",
        "colab": {
          "base_uri": "https://localhost:8080/"
        },
        "outputId": "cab9991c-d79b-4b20-b3aa-5f4838f48c2a"
      },
      "source": [
        "2 + A"
      ],
      "execution_count": 24,
      "outputs": [
        {
          "output_type": "execute_result",
          "data": {
            "text/plain": [
              "array([[ 3,  4],\n",
              "       [ 9, 10]])"
            ]
          },
          "metadata": {},
          "execution_count": 24
        }
      ]
    },
    {
      "cell_type": "code",
      "metadata": {
        "id": "OcnroZuvmiOC",
        "colab": {
          "base_uri": "https://localhost:8080/"
        },
        "outputId": "eb85d373-a241-48f8-bc6a-2b7e2e7ab2ba"
      },
      "source": [
        "A + B"
      ],
      "execution_count": 25,
      "outputs": [
        {
          "output_type": "execute_result",
          "data": {
            "text/plain": [
              "array([[ 4,  7],\n",
              "       [ 8, 14]])"
            ]
          },
          "metadata": {},
          "execution_count": 25
        }
      ]
    },
    {
      "cell_type": "code",
      "metadata": {
        "id": "0C911apCmnrl",
        "colab": {
          "base_uri": "https://localhost:8080/"
        },
        "outputId": "1ba5a4c9-94df-4613-8b54-f4304785009c"
      },
      "source": [
        "A - B"
      ],
      "execution_count": 26,
      "outputs": [
        {
          "output_type": "execute_result",
          "data": {
            "text/plain": [
              "array([[-2, -3],\n",
              "       [ 6,  2]])"
            ]
          },
          "metadata": {},
          "execution_count": 26
        }
      ]
    },
    {
      "cell_type": "code",
      "metadata": {
        "id": "kelj6mwgm7WY",
        "colab": {
          "base_uri": "https://localhost:8080/"
        },
        "outputId": "69683801-4014-40df-a40a-a14f034993eb"
      },
      "source": [
        "# Determinan A\n",
        "print(np.linalg.det(A))"
      ],
      "execution_count": 27,
      "outputs": [
        {
          "output_type": "stream",
          "name": "stdout",
          "text": [
            "-6.0\n"
          ]
        }
      ]
    },
    {
      "cell_type": "code",
      "metadata": {
        "id": "2ayxvBxuof5i",
        "colab": {
          "base_uri": "https://localhost:8080/"
        },
        "outputId": "f24f6f23-476a-48af-ee46-bf0094b4d430"
      },
      "source": [
        "# invers dari B, simpan jadi matriks D\n",
        "D = np.linalg.inv(B)\n",
        "print(D)"
      ],
      "execution_count": 28,
      "outputs": [
        {
          "output_type": "stream",
          "name": "stdout",
          "text": [
            "[[ 0.46153846 -0.38461538]\n",
            " [-0.07692308  0.23076923]]\n"
          ]
        }
      ]
    },
    {
      "cell_type": "code",
      "metadata": {
        "id": "_aQu_MzzoxFS",
        "colab": {
          "base_uri": "https://localhost:8080/"
        },
        "outputId": "c5f51997-2dc8-4b76-eb2c-aef43cfd3409"
      },
      "source": [
        "# transpose D\n",
        "D.transpose()"
      ],
      "execution_count": 29,
      "outputs": [
        {
          "output_type": "execute_result",
          "data": {
            "text/plain": [
              "array([[ 0.46153846, -0.07692308],\n",
              "       [-0.38461538,  0.23076923]])"
            ]
          },
          "metadata": {},
          "execution_count": 29
        }
      ]
    },
    {
      "cell_type": "code",
      "metadata": {
        "id": "8yoR9l52pJ82",
        "colab": {
          "base_uri": "https://localhost:8080/"
        },
        "outputId": "e435e822-b289-45f0-e253-d5c0b588c4b5"
      },
      "source": [
        "# nilai eigen dan vektor eigen dari A dan B\n",
        "w, v = np.linalg.eig(A)\n",
        "\n",
        "# printing eigen values\n",
        "print(\"Printing the Eigen values of the given square array:\\n\",\n",
        "      w)\n",
        "  \n",
        "# printing eigen vectors\n",
        "print(\"Printing Right eigenvectors of the given square array:\\n\",\n",
        "      v)"
      ],
      "execution_count": 30,
      "outputs": [
        {
          "output_type": "stream",
          "name": "stdout",
          "text": [
            "Printing the Eigen values of the given square array:\n",
            " [-0.62347538  9.62347538]\n",
            "Printing Right eigenvectors of the given square array:\n",
            " [[-0.77640358 -0.22592838]\n",
            " [ 0.63023605 -0.97414391]]\n"
          ]
        }
      ]
    },
    {
      "cell_type": "code",
      "metadata": {
        "id": "d3Emt-pOsqWT",
        "colab": {
          "base_uri": "https://localhost:8080/"
        },
        "outputId": "f0667f1e-2fe1-4e48-fa56-d36dc264e83a"
      },
      "source": [
        "np.linalg.eig(B)"
      ],
      "execution_count": 31,
      "outputs": [
        {
          "output_type": "execute_result",
          "data": {
            "text/plain": [
              "(array([1.8074176, 7.1925824]), array([[-0.97271381, -0.76626443],\n",
              "        [ 0.23200828, -0.64252535]]))"
            ]
          },
          "metadata": {},
          "execution_count": 31
        }
      ]
    },
    {
      "cell_type": "markdown",
      "metadata": {
        "id": "7NwMsWC-MQgG"
      },
      "source": [
        "Apa perbedaan dari B*D (perkalian antar entry di B dan D) dan BD (perkalian matriks B dan D)? "
      ]
    },
    {
      "cell_type": "code",
      "metadata": {
        "id": "0_PrzTpUMgQ8",
        "colab": {
          "base_uri": "https://localhost:8080/"
        },
        "outputId": "7a3bbdf0-7492-4190-fe77-d952cd481b8b"
      },
      "source": [
        "#Tunjukkan bedanya di kodingan di bawah ini\n",
        "B * D\n"
      ],
      "execution_count": 32,
      "outputs": [
        {
          "output_type": "execute_result",
          "data": {
            "text/plain": [
              "array([[ 1.38461538, -1.92307692],\n",
              "       [-0.07692308,  1.38461538]])"
            ]
          },
          "metadata": {},
          "execution_count": 32
        }
      ]
    },
    {
      "cell_type": "code",
      "metadata": {
        "id": "4ZWgKZAWHDi0",
        "colab": {
          "base_uri": "https://localhost:8080/"
        },
        "outputId": "e8f9a441-08f5-4f5e-dee3-4e472de74e45"
      },
      "source": [
        "B @ D"
      ],
      "execution_count": 33,
      "outputs": [
        {
          "output_type": "execute_result",
          "data": {
            "text/plain": [
              "array([[ 1.00000000e+00, -1.11022302e-16],\n",
              "       [ 1.11022302e-16,  1.00000000e+00]])"
            ]
          },
          "metadata": {},
          "execution_count": 33
        }
      ]
    },
    {
      "cell_type": "markdown",
      "metadata": {
        "id": "633JPFjMTk3Y"
      },
      "source": [
        "output jawaban: \n",
        "\n",
        "perkalian entry = [[ 1.38461538, -1.92307692], [-0.07692308,  1.38461538]]\n",
        "\n",
        "perkalian matriks = [[ 1.00000000e+00, -1.11022302e-16],\n",
        "       [ 1.11022302e-16,  1.00000000e+00]]\n"
      ]
    },
    {
      "cell_type": "markdown",
      "metadata": {
        "id": "emE1XJjgyTML"
      },
      "source": [
        "## Pandas dan Statistik Deskriptif"
      ]
    },
    {
      "cell_type": "code",
      "metadata": {
        "id": "LbUkdam20Luk"
      },
      "source": [
        "import pandas as pd"
      ],
      "execution_count": 34,
      "outputs": []
    },
    {
      "cell_type": "markdown",
      "metadata": {
        "id": "WA8wMETa0VCO"
      },
      "source": [
        "### Mengenal DataFrame"
      ]
    },
    {
      "cell_type": "code",
      "metadata": {
        "id": "zeMEfrs6yOj_",
        "colab": {
          "base_uri": "https://localhost:8080/",
          "height": 143
        },
        "outputId": "d430e742-d474-4d1b-cbf9-96daf771fb9d"
      },
      "source": [
        "#Dari Array\n",
        "df1 = pd.DataFrame(np.array([[1, 2, 3], [4, 5, 6], [7, 8, 9]]), columns=['a', 'b', 'c'])\n",
        "df1"
      ],
      "execution_count": 35,
      "outputs": [
        {
          "output_type": "execute_result",
          "data": {
            "text/html": [
              "<div>\n",
              "<style scoped>\n",
              "    .dataframe tbody tr th:only-of-type {\n",
              "        vertical-align: middle;\n",
              "    }\n",
              "\n",
              "    .dataframe tbody tr th {\n",
              "        vertical-align: top;\n",
              "    }\n",
              "\n",
              "    .dataframe thead th {\n",
              "        text-align: right;\n",
              "    }\n",
              "</style>\n",
              "<table border=\"1\" class=\"dataframe\">\n",
              "  <thead>\n",
              "    <tr style=\"text-align: right;\">\n",
              "      <th></th>\n",
              "      <th>a</th>\n",
              "      <th>b</th>\n",
              "      <th>c</th>\n",
              "    </tr>\n",
              "  </thead>\n",
              "  <tbody>\n",
              "    <tr>\n",
              "      <th>0</th>\n",
              "      <td>1</td>\n",
              "      <td>2</td>\n",
              "      <td>3</td>\n",
              "    </tr>\n",
              "    <tr>\n",
              "      <th>1</th>\n",
              "      <td>4</td>\n",
              "      <td>5</td>\n",
              "      <td>6</td>\n",
              "    </tr>\n",
              "    <tr>\n",
              "      <th>2</th>\n",
              "      <td>7</td>\n",
              "      <td>8</td>\n",
              "      <td>9</td>\n",
              "    </tr>\n",
              "  </tbody>\n",
              "</table>\n",
              "</div>"
            ],
            "text/plain": [
              "   a  b  c\n",
              "0  1  2  3\n",
              "1  4  5  6\n",
              "2  7  8  9"
            ]
          },
          "metadata": {},
          "execution_count": 35
        }
      ]
    },
    {
      "cell_type": "code",
      "metadata": {
        "id": "vOxPCBpazyKO",
        "colab": {
          "base_uri": "https://localhost:8080/",
          "height": 143
        },
        "outputId": "9f43e61d-f303-4db4-8bec-40edd77e3c2c"
      },
      "source": [
        "#Dari dictionary\n",
        "df2=pd.DataFrame({'a': [1,2,3], 'b': [4,5,6], 'c': [7, 8, 9]})\n",
        "df2"
      ],
      "execution_count": 36,
      "outputs": [
        {
          "output_type": "execute_result",
          "data": {
            "text/html": [
              "<div>\n",
              "<style scoped>\n",
              "    .dataframe tbody tr th:only-of-type {\n",
              "        vertical-align: middle;\n",
              "    }\n",
              "\n",
              "    .dataframe tbody tr th {\n",
              "        vertical-align: top;\n",
              "    }\n",
              "\n",
              "    .dataframe thead th {\n",
              "        text-align: right;\n",
              "    }\n",
              "</style>\n",
              "<table border=\"1\" class=\"dataframe\">\n",
              "  <thead>\n",
              "    <tr style=\"text-align: right;\">\n",
              "      <th></th>\n",
              "      <th>a</th>\n",
              "      <th>b</th>\n",
              "      <th>c</th>\n",
              "    </tr>\n",
              "  </thead>\n",
              "  <tbody>\n",
              "    <tr>\n",
              "      <th>0</th>\n",
              "      <td>1</td>\n",
              "      <td>4</td>\n",
              "      <td>7</td>\n",
              "    </tr>\n",
              "    <tr>\n",
              "      <th>1</th>\n",
              "      <td>2</td>\n",
              "      <td>5</td>\n",
              "      <td>8</td>\n",
              "    </tr>\n",
              "    <tr>\n",
              "      <th>2</th>\n",
              "      <td>3</td>\n",
              "      <td>6</td>\n",
              "      <td>9</td>\n",
              "    </tr>\n",
              "  </tbody>\n",
              "</table>\n",
              "</div>"
            ],
            "text/plain": [
              "   a  b  c\n",
              "0  1  4  7\n",
              "1  2  5  8\n",
              "2  3  6  9"
            ]
          },
          "metadata": {},
          "execution_count": 36
        }
      ]
    },
    {
      "cell_type": "code",
      "metadata": {
        "id": "SNZmiYTfz_2r",
        "colab": {
          "base_uri": "https://localhost:8080/",
          "height": 143
        },
        "outputId": "a7361cd1-580e-4420-d634-2763462f906e"
      },
      "source": [
        "#Menambahkan kolom baru\n",
        "df1['d'] = [3, 5, 6]\n",
        "df1"
      ],
      "execution_count": 37,
      "outputs": [
        {
          "output_type": "execute_result",
          "data": {
            "text/html": [
              "<div>\n",
              "<style scoped>\n",
              "    .dataframe tbody tr th:only-of-type {\n",
              "        vertical-align: middle;\n",
              "    }\n",
              "\n",
              "    .dataframe tbody tr th {\n",
              "        vertical-align: top;\n",
              "    }\n",
              "\n",
              "    .dataframe thead th {\n",
              "        text-align: right;\n",
              "    }\n",
              "</style>\n",
              "<table border=\"1\" class=\"dataframe\">\n",
              "  <thead>\n",
              "    <tr style=\"text-align: right;\">\n",
              "      <th></th>\n",
              "      <th>a</th>\n",
              "      <th>b</th>\n",
              "      <th>c</th>\n",
              "      <th>d</th>\n",
              "    </tr>\n",
              "  </thead>\n",
              "  <tbody>\n",
              "    <tr>\n",
              "      <th>0</th>\n",
              "      <td>1</td>\n",
              "      <td>2</td>\n",
              "      <td>3</td>\n",
              "      <td>3</td>\n",
              "    </tr>\n",
              "    <tr>\n",
              "      <th>1</th>\n",
              "      <td>4</td>\n",
              "      <td>5</td>\n",
              "      <td>6</td>\n",
              "      <td>5</td>\n",
              "    </tr>\n",
              "    <tr>\n",
              "      <th>2</th>\n",
              "      <td>7</td>\n",
              "      <td>8</td>\n",
              "      <td>9</td>\n",
              "      <td>6</td>\n",
              "    </tr>\n",
              "  </tbody>\n",
              "</table>\n",
              "</div>"
            ],
            "text/plain": [
              "   a  b  c  d\n",
              "0  1  2  3  3\n",
              "1  4  5  6  5\n",
              "2  7  8  9  6"
            ]
          },
          "metadata": {},
          "execution_count": 37
        }
      ]
    },
    {
      "cell_type": "code",
      "metadata": {
        "id": "KXyPuM_OOHFa"
      },
      "source": [
        "#Menyimpan dataframe ke csv file\n",
        "df1.to_csv('latihan/df1.csv')"
      ],
      "execution_count": 38,
      "outputs": []
    },
    {
      "cell_type": "code",
      "metadata": {
        "id": "zV0QN-471Jri",
        "colab": {
          "base_uri": "https://localhost:8080/",
          "height": 143
        },
        "outputId": "76864802-a252-4fca-af54-d8da0c3db365"
      },
      "source": [
        "#Mengambil kolom tertentu: \n",
        "df3 = df1[['a','d']]\n",
        "df3"
      ],
      "execution_count": 39,
      "outputs": [
        {
          "output_type": "execute_result",
          "data": {
            "text/html": [
              "<div>\n",
              "<style scoped>\n",
              "    .dataframe tbody tr th:only-of-type {\n",
              "        vertical-align: middle;\n",
              "    }\n",
              "\n",
              "    .dataframe tbody tr th {\n",
              "        vertical-align: top;\n",
              "    }\n",
              "\n",
              "    .dataframe thead th {\n",
              "        text-align: right;\n",
              "    }\n",
              "</style>\n",
              "<table border=\"1\" class=\"dataframe\">\n",
              "  <thead>\n",
              "    <tr style=\"text-align: right;\">\n",
              "      <th></th>\n",
              "      <th>a</th>\n",
              "      <th>d</th>\n",
              "    </tr>\n",
              "  </thead>\n",
              "  <tbody>\n",
              "    <tr>\n",
              "      <th>0</th>\n",
              "      <td>1</td>\n",
              "      <td>3</td>\n",
              "    </tr>\n",
              "    <tr>\n",
              "      <th>1</th>\n",
              "      <td>4</td>\n",
              "      <td>5</td>\n",
              "    </tr>\n",
              "    <tr>\n",
              "      <th>2</th>\n",
              "      <td>7</td>\n",
              "      <td>6</td>\n",
              "    </tr>\n",
              "  </tbody>\n",
              "</table>\n",
              "</div>"
            ],
            "text/plain": [
              "   a  d\n",
              "0  1  3\n",
              "1  4  5\n",
              "2  7  6"
            ]
          },
          "metadata": {},
          "execution_count": 39
        }
      ]
    },
    {
      "cell_type": "code",
      "metadata": {
        "id": "w_AovvMd1gHV",
        "colab": {
          "base_uri": "https://localhost:8080/",
          "height": 112
        },
        "outputId": "bcba1631-ce77-4118-bc7e-33b04fdf8648"
      },
      "source": [
        "#Mengambil sebagian data berdasarkan entrynya\n",
        "df4a = df1[df1['a']>2] #df1 yang df1['a']>2\n",
        "df4a"
      ],
      "execution_count": 40,
      "outputs": [
        {
          "output_type": "execute_result",
          "data": {
            "text/html": [
              "<div>\n",
              "<style scoped>\n",
              "    .dataframe tbody tr th:only-of-type {\n",
              "        vertical-align: middle;\n",
              "    }\n",
              "\n",
              "    .dataframe tbody tr th {\n",
              "        vertical-align: top;\n",
              "    }\n",
              "\n",
              "    .dataframe thead th {\n",
              "        text-align: right;\n",
              "    }\n",
              "</style>\n",
              "<table border=\"1\" class=\"dataframe\">\n",
              "  <thead>\n",
              "    <tr style=\"text-align: right;\">\n",
              "      <th></th>\n",
              "      <th>a</th>\n",
              "      <th>b</th>\n",
              "      <th>c</th>\n",
              "      <th>d</th>\n",
              "    </tr>\n",
              "  </thead>\n",
              "  <tbody>\n",
              "    <tr>\n",
              "      <th>1</th>\n",
              "      <td>4</td>\n",
              "      <td>5</td>\n",
              "      <td>6</td>\n",
              "      <td>5</td>\n",
              "    </tr>\n",
              "    <tr>\n",
              "      <th>2</th>\n",
              "      <td>7</td>\n",
              "      <td>8</td>\n",
              "      <td>9</td>\n",
              "      <td>6</td>\n",
              "    </tr>\n",
              "  </tbody>\n",
              "</table>\n",
              "</div>"
            ],
            "text/plain": [
              "   a  b  c  d\n",
              "1  4  5  6  5\n",
              "2  7  8  9  6"
            ]
          },
          "metadata": {},
          "execution_count": 40
        }
      ]
    },
    {
      "cell_type": "code",
      "metadata": {
        "id": "J6REVPcjO3XR",
        "colab": {
          "base_uri": "https://localhost:8080/",
          "height": 81
        },
        "outputId": "b379d790-249f-42dc-e74d-8742f98ce82d"
      },
      "source": [
        "df4b = df1[df1['a']==4] #df1 yang df1['a']=4\n",
        "df4b"
      ],
      "execution_count": 41,
      "outputs": [
        {
          "output_type": "execute_result",
          "data": {
            "text/html": [
              "<div>\n",
              "<style scoped>\n",
              "    .dataframe tbody tr th:only-of-type {\n",
              "        vertical-align: middle;\n",
              "    }\n",
              "\n",
              "    .dataframe tbody tr th {\n",
              "        vertical-align: top;\n",
              "    }\n",
              "\n",
              "    .dataframe thead th {\n",
              "        text-align: right;\n",
              "    }\n",
              "</style>\n",
              "<table border=\"1\" class=\"dataframe\">\n",
              "  <thead>\n",
              "    <tr style=\"text-align: right;\">\n",
              "      <th></th>\n",
              "      <th>a</th>\n",
              "      <th>b</th>\n",
              "      <th>c</th>\n",
              "      <th>d</th>\n",
              "    </tr>\n",
              "  </thead>\n",
              "  <tbody>\n",
              "    <tr>\n",
              "      <th>1</th>\n",
              "      <td>4</td>\n",
              "      <td>5</td>\n",
              "      <td>6</td>\n",
              "      <td>5</td>\n",
              "    </tr>\n",
              "  </tbody>\n",
              "</table>\n",
              "</div>"
            ],
            "text/plain": [
              "   a  b  c  d\n",
              "1  4  5  6  5"
            ]
          },
          "metadata": {},
          "execution_count": 41
        }
      ]
    },
    {
      "cell_type": "code",
      "metadata": {
        "id": "eQZK_ddv2LnV",
        "colab": {
          "base_uri": "https://localhost:8080/",
          "height": 112
        },
        "outputId": "a75dd43c-4291-40e1-a0b1-96992b4141a5"
      },
      "source": [
        "#Mengambil sebagian data berdasarkan indexnya\n",
        "df5 = df1.iloc[0:2, 0:3]\n",
        "df5"
      ],
      "execution_count": 42,
      "outputs": [
        {
          "output_type": "execute_result",
          "data": {
            "text/html": [
              "<div>\n",
              "<style scoped>\n",
              "    .dataframe tbody tr th:only-of-type {\n",
              "        vertical-align: middle;\n",
              "    }\n",
              "\n",
              "    .dataframe tbody tr th {\n",
              "        vertical-align: top;\n",
              "    }\n",
              "\n",
              "    .dataframe thead th {\n",
              "        text-align: right;\n",
              "    }\n",
              "</style>\n",
              "<table border=\"1\" class=\"dataframe\">\n",
              "  <thead>\n",
              "    <tr style=\"text-align: right;\">\n",
              "      <th></th>\n",
              "      <th>a</th>\n",
              "      <th>b</th>\n",
              "      <th>c</th>\n",
              "    </tr>\n",
              "  </thead>\n",
              "  <tbody>\n",
              "    <tr>\n",
              "      <th>0</th>\n",
              "      <td>1</td>\n",
              "      <td>2</td>\n",
              "      <td>3</td>\n",
              "    </tr>\n",
              "    <tr>\n",
              "      <th>1</th>\n",
              "      <td>4</td>\n",
              "      <td>5</td>\n",
              "      <td>6</td>\n",
              "    </tr>\n",
              "  </tbody>\n",
              "</table>\n",
              "</div>"
            ],
            "text/plain": [
              "   a  b  c\n",
              "0  1  2  3\n",
              "1  4  5  6"
            ]
          },
          "metadata": {},
          "execution_count": 42
        }
      ]
    },
    {
      "cell_type": "markdown",
      "metadata": {
        "id": "oQtNPAVe4cVH"
      },
      "source": [
        "### Mengimport data ke DataFrame"
      ]
    },
    {
      "cell_type": "code",
      "metadata": {
        "id": "O507C0Zg2f3t",
        "colab": {
          "base_uri": "https://localhost:8080/",
          "height": 424
        },
        "outputId": "583decbb-6dca-4530-81a8-a58096cb3364"
      },
      "source": [
        "#Contoh mengimport dari web\n",
        "url = 'https://people.sc.fsu.edu/~jburkardt/data/csv/freshman_kgs.csv'\n",
        "df6 = pd.read_csv(url)\n",
        "\n",
        "df6"
      ],
      "execution_count": 43,
      "outputs": [
        {
          "output_type": "execute_result",
          "data": {
            "text/html": [
              "<div>\n",
              "<style scoped>\n",
              "    .dataframe tbody tr th:only-of-type {\n",
              "        vertical-align: middle;\n",
              "    }\n",
              "\n",
              "    .dataframe tbody tr th {\n",
              "        vertical-align: top;\n",
              "    }\n",
              "\n",
              "    .dataframe thead th {\n",
              "        text-align: right;\n",
              "    }\n",
              "</style>\n",
              "<table border=\"1\" class=\"dataframe\">\n",
              "  <thead>\n",
              "    <tr style=\"text-align: right;\">\n",
              "      <th></th>\n",
              "      <th>Sex</th>\n",
              "      <th>\"Weight (Sep)\"</th>\n",
              "      <th>\"Weight (Apr)\"</th>\n",
              "      <th>\"BMI (Sep)\"</th>\n",
              "      <th>\"BMI (Apr)\"</th>\n",
              "    </tr>\n",
              "  </thead>\n",
              "  <tbody>\n",
              "    <tr>\n",
              "      <th>0</th>\n",
              "      <td>M</td>\n",
              "      <td>72</td>\n",
              "      <td>59</td>\n",
              "      <td>22.02</td>\n",
              "      <td>18.14</td>\n",
              "    </tr>\n",
              "    <tr>\n",
              "      <th>1</th>\n",
              "      <td>M</td>\n",
              "      <td>97</td>\n",
              "      <td>86</td>\n",
              "      <td>19.70</td>\n",
              "      <td>17.44</td>\n",
              "    </tr>\n",
              "    <tr>\n",
              "      <th>2</th>\n",
              "      <td>M</td>\n",
              "      <td>74</td>\n",
              "      <td>69</td>\n",
              "      <td>24.09</td>\n",
              "      <td>22.43</td>\n",
              "    </tr>\n",
              "    <tr>\n",
              "      <th>3</th>\n",
              "      <td>M</td>\n",
              "      <td>93</td>\n",
              "      <td>88</td>\n",
              "      <td>26.97</td>\n",
              "      <td>25.57</td>\n",
              "    </tr>\n",
              "    <tr>\n",
              "      <th>4</th>\n",
              "      <td>F</td>\n",
              "      <td>68</td>\n",
              "      <td>64</td>\n",
              "      <td>21.51</td>\n",
              "      <td>20.10</td>\n",
              "    </tr>\n",
              "    <tr>\n",
              "      <th>...</th>\n",
              "      <td>...</td>\n",
              "      <td>...</td>\n",
              "      <td>...</td>\n",
              "      <td>...</td>\n",
              "      <td>...</td>\n",
              "    </tr>\n",
              "    <tr>\n",
              "      <th>62</th>\n",
              "      <td>M</td>\n",
              "      <td>65</td>\n",
              "      <td>71</td>\n",
              "      <td>22.51</td>\n",
              "      <td>24.45</td>\n",
              "    </tr>\n",
              "    <tr>\n",
              "      <th>63</th>\n",
              "      <td>M</td>\n",
              "      <td>75</td>\n",
              "      <td>82</td>\n",
              "      <td>23.69</td>\n",
              "      <td>25.80</td>\n",
              "    </tr>\n",
              "    <tr>\n",
              "      <th>64</th>\n",
              "      <td>F</td>\n",
              "      <td>42</td>\n",
              "      <td>49</td>\n",
              "      <td>15.08</td>\n",
              "      <td>17.74</td>\n",
              "    </tr>\n",
              "    <tr>\n",
              "      <th>65</th>\n",
              "      <td>M</td>\n",
              "      <td>74</td>\n",
              "      <td>82</td>\n",
              "      <td>22.64</td>\n",
              "      <td>25.33</td>\n",
              "    </tr>\n",
              "    <tr>\n",
              "      <th>66</th>\n",
              "      <td>M</td>\n",
              "      <td>94</td>\n",
              "      <td>105</td>\n",
              "      <td>36.57</td>\n",
              "      <td>40.86</td>\n",
              "    </tr>\n",
              "  </tbody>\n",
              "</table>\n",
              "<p>67 rows × 5 columns</p>\n",
              "</div>"
            ],
            "text/plain": [
              "   Sex   \"Weight (Sep)\"   \"Weight (Apr)\"   \"BMI (Sep)\"   \"BMI (Apr)\"\n",
              "0    M               72               59         22.02         18.14\n",
              "1    M               97               86         19.70         17.44\n",
              "2    M               74               69         24.09         22.43\n",
              "3    M               93               88         26.97         25.57\n",
              "4    F               68               64         21.51         20.10\n",
              "..  ..              ...              ...           ...           ...\n",
              "62   M               65               71         22.51         24.45\n",
              "63   M               75               82         23.69         25.80\n",
              "64   F               42               49         15.08         17.74\n",
              "65   M               74               82         22.64         25.33\n",
              "66   M               94              105         36.57         40.86\n",
              "\n",
              "[67 rows x 5 columns]"
            ]
          },
          "metadata": {},
          "execution_count": 43
        }
      ]
    },
    {
      "cell_type": "code",
      "metadata": {
        "id": "86d5Sdr_PqW3"
      },
      "source": [
        ""
      ],
      "execution_count": 43,
      "outputs": []
    },
    {
      "cell_type": "code",
      "metadata": {
        "id": "_vANo60lC4Nn",
        "colab": {
          "base_uri": "https://localhost:8080/",
          "height": 206
        },
        "outputId": "34934ada-35b2-4b9f-ac7a-3e37698aefe0"
      },
      "source": [
        "#5 data teratas\n",
        "df6.head()"
      ],
      "execution_count": 44,
      "outputs": [
        {
          "output_type": "execute_result",
          "data": {
            "text/html": [
              "<div>\n",
              "<style scoped>\n",
              "    .dataframe tbody tr th:only-of-type {\n",
              "        vertical-align: middle;\n",
              "    }\n",
              "\n",
              "    .dataframe tbody tr th {\n",
              "        vertical-align: top;\n",
              "    }\n",
              "\n",
              "    .dataframe thead th {\n",
              "        text-align: right;\n",
              "    }\n",
              "</style>\n",
              "<table border=\"1\" class=\"dataframe\">\n",
              "  <thead>\n",
              "    <tr style=\"text-align: right;\">\n",
              "      <th></th>\n",
              "      <th>Sex</th>\n",
              "      <th>\"Weight (Sep)\"</th>\n",
              "      <th>\"Weight (Apr)\"</th>\n",
              "      <th>\"BMI (Sep)\"</th>\n",
              "      <th>\"BMI (Apr)\"</th>\n",
              "    </tr>\n",
              "  </thead>\n",
              "  <tbody>\n",
              "    <tr>\n",
              "      <th>0</th>\n",
              "      <td>M</td>\n",
              "      <td>72</td>\n",
              "      <td>59</td>\n",
              "      <td>22.02</td>\n",
              "      <td>18.14</td>\n",
              "    </tr>\n",
              "    <tr>\n",
              "      <th>1</th>\n",
              "      <td>M</td>\n",
              "      <td>97</td>\n",
              "      <td>86</td>\n",
              "      <td>19.70</td>\n",
              "      <td>17.44</td>\n",
              "    </tr>\n",
              "    <tr>\n",
              "      <th>2</th>\n",
              "      <td>M</td>\n",
              "      <td>74</td>\n",
              "      <td>69</td>\n",
              "      <td>24.09</td>\n",
              "      <td>22.43</td>\n",
              "    </tr>\n",
              "    <tr>\n",
              "      <th>3</th>\n",
              "      <td>M</td>\n",
              "      <td>93</td>\n",
              "      <td>88</td>\n",
              "      <td>26.97</td>\n",
              "      <td>25.57</td>\n",
              "    </tr>\n",
              "    <tr>\n",
              "      <th>4</th>\n",
              "      <td>F</td>\n",
              "      <td>68</td>\n",
              "      <td>64</td>\n",
              "      <td>21.51</td>\n",
              "      <td>20.10</td>\n",
              "    </tr>\n",
              "  </tbody>\n",
              "</table>\n",
              "</div>"
            ],
            "text/plain": [
              "  Sex   \"Weight (Sep)\"   \"Weight (Apr)\"   \"BMI (Sep)\"   \"BMI (Apr)\"\n",
              "0   M               72               59         22.02         18.14\n",
              "1   M               97               86         19.70         17.44\n",
              "2   M               74               69         24.09         22.43\n",
              "3   M               93               88         26.97         25.57\n",
              "4   F               68               64         21.51         20.10"
            ]
          },
          "metadata": {},
          "execution_count": 44
        }
      ]
    },
    {
      "cell_type": "markdown",
      "metadata": {
        "id": "VncYiRCo8f3m"
      },
      "source": [
        "### Membuat deskriptif"
      ]
    },
    {
      "cell_type": "code",
      "metadata": {
        "id": "cRvrFniE8etF",
        "colab": {
          "base_uri": "https://localhost:8080/",
          "height": 300
        },
        "outputId": "69ae4edc-63f5-423f-d778-d1987c31c1b8"
      },
      "source": [
        "#DataNumerik\n",
        "df6.describe()"
      ],
      "execution_count": 45,
      "outputs": [
        {
          "output_type": "execute_result",
          "data": {
            "text/html": [
              "<div>\n",
              "<style scoped>\n",
              "    .dataframe tbody tr th:only-of-type {\n",
              "        vertical-align: middle;\n",
              "    }\n",
              "\n",
              "    .dataframe tbody tr th {\n",
              "        vertical-align: top;\n",
              "    }\n",
              "\n",
              "    .dataframe thead th {\n",
              "        text-align: right;\n",
              "    }\n",
              "</style>\n",
              "<table border=\"1\" class=\"dataframe\">\n",
              "  <thead>\n",
              "    <tr style=\"text-align: right;\">\n",
              "      <th></th>\n",
              "      <th>\"Weight (Sep)\"</th>\n",
              "      <th>\"Weight (Apr)\"</th>\n",
              "      <th>\"BMI (Sep)\"</th>\n",
              "      <th>\"BMI (Apr)\"</th>\n",
              "    </tr>\n",
              "  </thead>\n",
              "  <tbody>\n",
              "    <tr>\n",
              "      <th>count</th>\n",
              "      <td>67.000000</td>\n",
              "      <td>67.000000</td>\n",
              "      <td>67.000000</td>\n",
              "      <td>67.000000</td>\n",
              "    </tr>\n",
              "    <tr>\n",
              "      <th>mean</th>\n",
              "      <td>65.059701</td>\n",
              "      <td>66.238806</td>\n",
              "      <td>22.030000</td>\n",
              "      <td>22.484179</td>\n",
              "    </tr>\n",
              "    <tr>\n",
              "      <th>std</th>\n",
              "      <td>11.285390</td>\n",
              "      <td>11.284327</td>\n",
              "      <td>3.308901</td>\n",
              "      <td>3.602527</td>\n",
              "    </tr>\n",
              "    <tr>\n",
              "      <th>min</th>\n",
              "      <td>42.000000</td>\n",
              "      <td>47.000000</td>\n",
              "      <td>15.080000</td>\n",
              "      <td>16.890000</td>\n",
              "    </tr>\n",
              "    <tr>\n",
              "      <th>25%</th>\n",
              "      <td>56.500000</td>\n",
              "      <td>58.000000</td>\n",
              "      <td>19.965000</td>\n",
              "      <td>20.230000</td>\n",
              "    </tr>\n",
              "    <tr>\n",
              "      <th>50%</th>\n",
              "      <td>64.000000</td>\n",
              "      <td>66.000000</td>\n",
              "      <td>21.730000</td>\n",
              "      <td>22.310000</td>\n",
              "    </tr>\n",
              "    <tr>\n",
              "      <th>75%</th>\n",
              "      <td>70.500000</td>\n",
              "      <td>70.000000</td>\n",
              "      <td>23.160000</td>\n",
              "      <td>23.860000</td>\n",
              "    </tr>\n",
              "    <tr>\n",
              "      <th>max</th>\n",
              "      <td>97.000000</td>\n",
              "      <td>105.000000</td>\n",
              "      <td>36.570000</td>\n",
              "      <td>40.860000</td>\n",
              "    </tr>\n",
              "  </tbody>\n",
              "</table>\n",
              "</div>"
            ],
            "text/plain": [
              "        \"Weight (Sep)\"   \"Weight (Apr)\"   \"BMI (Sep)\"   \"BMI (Apr)\"\n",
              "count        67.000000        67.000000     67.000000     67.000000\n",
              "mean         65.059701        66.238806     22.030000     22.484179\n",
              "std          11.285390        11.284327      3.308901      3.602527\n",
              "min          42.000000        47.000000     15.080000     16.890000\n",
              "25%          56.500000        58.000000     19.965000     20.230000\n",
              "50%          64.000000        66.000000     21.730000     22.310000\n",
              "75%          70.500000        70.000000     23.160000     23.860000\n",
              "max          97.000000       105.000000     36.570000     40.860000"
            ]
          },
          "metadata": {},
          "execution_count": 45
        }
      ]
    },
    {
      "cell_type": "code",
      "metadata": {
        "id": "zmdLGchV8uuU",
        "colab": {
          "base_uri": "https://localhost:8080/",
          "height": 368
        },
        "outputId": "54ce6976-6e01-46a3-9e4a-9665657932a1"
      },
      "source": [
        "df6.hist()"
      ],
      "execution_count": 46,
      "outputs": [
        {
          "output_type": "execute_result",
          "data": {
            "text/plain": [
              "array([[<matplotlib.axes._subplots.AxesSubplot object at 0x7fd4918dbf50>,\n",
              "        <matplotlib.axes._subplots.AxesSubplot object at 0x7fd49141ab90>],\n",
              "       [<matplotlib.axes._subplots.AxesSubplot object at 0x7fd4913e7650>,\n",
              "        <matplotlib.axes._subplots.AxesSubplot object at 0x7fd49139fc50>]],\n",
              "      dtype=object)"
            ]
          },
          "metadata": {},
          "execution_count": 46
        },
        {
          "output_type": "display_data",
          "data": {
            "image/png": "[encoded data removed]",
            "text/plain": [
              "<Figure size 432x288 with 4 Axes>"
            ]
          },
          "metadata": {
            "needs_background": "light"
          }
        }
      ]
    },
    {
      "cell_type": "code",
      "metadata": {
        "id": "t4AclPYb81C3",
        "colab": {
          "base_uri": "https://localhost:8080/",
          "height": 175
        },
        "outputId": "d5967088-7c73-4392-9e31-09e5609ea85f"
      },
      "source": [
        "#data non-numerik\n",
        "df6.describe(include=[\"object\", \"bool\"]) "
      ],
      "execution_count": 47,
      "outputs": [
        {
          "output_type": "execute_result",
          "data": {
            "text/html": [
              "<div>\n",
              "<style scoped>\n",
              "    .dataframe tbody tr th:only-of-type {\n",
              "        vertical-align: middle;\n",
              "    }\n",
              "\n",
              "    .dataframe tbody tr th {\n",
              "        vertical-align: top;\n",
              "    }\n",
              "\n",
              "    .dataframe thead th {\n",
              "        text-align: right;\n",
              "    }\n",
              "</style>\n",
              "<table border=\"1\" class=\"dataframe\">\n",
              "  <thead>\n",
              "    <tr style=\"text-align: right;\">\n",
              "      <th></th>\n",
              "      <th>Sex</th>\n",
              "    </tr>\n",
              "  </thead>\n",
              "  <tbody>\n",
              "    <tr>\n",
              "      <th>count</th>\n",
              "      <td>67</td>\n",
              "    </tr>\n",
              "    <tr>\n",
              "      <th>unique</th>\n",
              "      <td>2</td>\n",
              "    </tr>\n",
              "    <tr>\n",
              "      <th>top</th>\n",
              "      <td>F</td>\n",
              "    </tr>\n",
              "    <tr>\n",
              "      <th>freq</th>\n",
              "      <td>35</td>\n",
              "    </tr>\n",
              "  </tbody>\n",
              "</table>\n",
              "</div>"
            ],
            "text/plain": [
              "       Sex\n",
              "count   67\n",
              "unique   2\n",
              "top      F\n",
              "freq    35"
            ]
          },
          "metadata": {},
          "execution_count": 47
        }
      ]
    },
    {
      "cell_type": "code",
      "metadata": {
        "id": "3pHZDA8d6o-r",
        "colab": {
          "base_uri": "https://localhost:8080/"
        },
        "outputId": "5b190be0-adc7-404e-f7b6-df56cba2137c"
      },
      "source": [
        "#List nama kolom\n",
        "df6.columns"
      ],
      "execution_count": 48,
      "outputs": [
        {
          "output_type": "execute_result",
          "data": {
            "text/plain": [
              "Index(['Sex', ' \"Weight (Sep)\"', ' \"Weight (Apr)\"', ' \"BMI (Sep)\"',\n",
              "       ' \"BMI (Apr)\"'],\n",
              "      dtype='object')"
            ]
          },
          "metadata": {},
          "execution_count": 48
        }
      ]
    },
    {
      "cell_type": "markdown",
      "metadata": {
        "id": "W_fSI7xFDNmo"
      },
      "source": [
        "Untuk memudahkan saat kita butuh menuliskan nama kolomnya, bisa langsung copas agar sesuai formatnya (misalnya huruf besar/kecil, dll)"
      ]
    },
    {
      "cell_type": "markdown",
      "metadata": {
        "id": "vdWlI9_l59k-"
      },
      "source": [
        "### Latihan-5 (mengambil sebagian data)\n",
        "Buat kodingan untuk memilih data yang perempuan saja"
      ]
    },
    {
      "cell_type": "code",
      "metadata": {
        "id": "b669Ar295lNf",
        "colab": {
          "base_uri": "https://localhost:8080/",
          "height": 0
        },
        "outputId": "2d49c9bb-23e5-44b0-b3e2-8321c2e7d5ca"
      },
      "source": [
        "#Pilih data yang perempuan saja \n",
        "\n",
        "df6.loc[df6['Sex']=='F']\n"
      ],
      "execution_count": 49,
      "outputs": [
        {
          "output_type": "execute_result",
          "data": {
            "text/html": [
              "<div>\n",
              "<style scoped>\n",
              "    .dataframe tbody tr th:only-of-type {\n",
              "        vertical-align: middle;\n",
              "    }\n",
              "\n",
              "    .dataframe tbody tr th {\n",
              "        vertical-align: top;\n",
              "    }\n",
              "\n",
              "    .dataframe thead th {\n",
              "        text-align: right;\n",
              "    }\n",
              "</style>\n",
              "<table border=\"1\" class=\"dataframe\">\n",
              "  <thead>\n",
              "    <tr style=\"text-align: right;\">\n",
              "      <th></th>\n",
              "      <th>Sex</th>\n",
              "      <th>\"Weight (Sep)\"</th>\n",
              "      <th>\"Weight (Apr)\"</th>\n",
              "      <th>\"BMI (Sep)\"</th>\n",
              "      <th>\"BMI (Apr)\"</th>\n",
              "    </tr>\n",
              "  </thead>\n",
              "  <tbody>\n",
              "    <tr>\n",
              "      <th>4</th>\n",
              "      <td>F</td>\n",
              "      <td>68</td>\n",
              "      <td>64</td>\n",
              "      <td>21.51</td>\n",
              "      <td>20.10</td>\n",
              "    </tr>\n",
              "    <tr>\n",
              "      <th>6</th>\n",
              "      <td>F</td>\n",
              "      <td>64</td>\n",
              "      <td>60</td>\n",
              "      <td>24.24</td>\n",
              "      <td>22.88</td>\n",
              "    </tr>\n",
              "    <tr>\n",
              "      <th>7</th>\n",
              "      <td>F</td>\n",
              "      <td>56</td>\n",
              "      <td>53</td>\n",
              "      <td>21.23</td>\n",
              "      <td>20.23</td>\n",
              "    </tr>\n",
              "    <tr>\n",
              "      <th>8</th>\n",
              "      <td>F</td>\n",
              "      <td>70</td>\n",
              "      <td>68</td>\n",
              "      <td>30.26</td>\n",
              "      <td>29.24</td>\n",
              "    </tr>\n",
              "    <tr>\n",
              "      <th>9</th>\n",
              "      <td>F</td>\n",
              "      <td>58</td>\n",
              "      <td>56</td>\n",
              "      <td>21.88</td>\n",
              "      <td>21.02</td>\n",
              "    </tr>\n",
              "    <tr>\n",
              "      <th>10</th>\n",
              "      <td>F</td>\n",
              "      <td>50</td>\n",
              "      <td>47</td>\n",
              "      <td>17.63</td>\n",
              "      <td>16.89</td>\n",
              "    </tr>\n",
              "    <tr>\n",
              "      <th>13</th>\n",
              "      <td>F</td>\n",
              "      <td>56</td>\n",
              "      <td>55</td>\n",
              "      <td>20.97</td>\n",
              "      <td>20.36</td>\n",
              "    </tr>\n",
              "    <tr>\n",
              "      <th>14</th>\n",
              "      <td>F</td>\n",
              "      <td>70</td>\n",
              "      <td>68</td>\n",
              "      <td>27.30</td>\n",
              "      <td>26.73</td>\n",
              "    </tr>\n",
              "    <tr>\n",
              "      <th>15</th>\n",
              "      <td>F</td>\n",
              "      <td>61</td>\n",
              "      <td>60</td>\n",
              "      <td>23.30</td>\n",
              "      <td>22.88</td>\n",
              "    </tr>\n",
              "    <tr>\n",
              "      <th>16</th>\n",
              "      <td>F</td>\n",
              "      <td>53</td>\n",
              "      <td>52</td>\n",
              "      <td>19.48</td>\n",
              "      <td>19.24</td>\n",
              "    </tr>\n",
              "    <tr>\n",
              "      <th>18</th>\n",
              "      <td>F</td>\n",
              "      <td>57</td>\n",
              "      <td>58</td>\n",
              "      <td>20.69</td>\n",
              "      <td>20.79</td>\n",
              "    </tr>\n",
              "    <tr>\n",
              "      <th>20</th>\n",
              "      <td>F</td>\n",
              "      <td>58</td>\n",
              "      <td>58</td>\n",
              "      <td>21.09</td>\n",
              "      <td>21.24</td>\n",
              "    </tr>\n",
              "    <tr>\n",
              "      <th>21</th>\n",
              "      <td>F</td>\n",
              "      <td>49</td>\n",
              "      <td>50</td>\n",
              "      <td>18.37</td>\n",
              "      <td>18.53</td>\n",
              "    </tr>\n",
              "    <tr>\n",
              "      <th>23</th>\n",
              "      <td>F</td>\n",
              "      <td>69</td>\n",
              "      <td>69</td>\n",
              "      <td>28.17</td>\n",
              "      <td>28.43</td>\n",
              "    </tr>\n",
              "    <tr>\n",
              "      <th>27</th>\n",
              "      <td>F</td>\n",
              "      <td>52</td>\n",
              "      <td>53</td>\n",
              "      <td>19.31</td>\n",
              "      <td>19.75</td>\n",
              "    </tr>\n",
              "    <tr>\n",
              "      <th>29</th>\n",
              "      <td>F</td>\n",
              "      <td>63</td>\n",
              "      <td>64</td>\n",
              "      <td>21.78</td>\n",
              "      <td>22.22</td>\n",
              "    </tr>\n",
              "    <tr>\n",
              "      <th>30</th>\n",
              "      <td>F</td>\n",
              "      <td>56</td>\n",
              "      <td>57</td>\n",
              "      <td>19.78</td>\n",
              "      <td>20.23</td>\n",
              "    </tr>\n",
              "    <tr>\n",
              "      <th>33</th>\n",
              "      <td>F</td>\n",
              "      <td>54</td>\n",
              "      <td>56</td>\n",
              "      <td>20.15</td>\n",
              "      <td>20.69</td>\n",
              "    </tr>\n",
              "    <tr>\n",
              "      <th>36</th>\n",
              "      <td>F</td>\n",
              "      <td>57</td>\n",
              "      <td>59</td>\n",
              "      <td>22.15</td>\n",
              "      <td>22.93</td>\n",
              "    </tr>\n",
              "    <tr>\n",
              "      <th>37</th>\n",
              "      <td>F</td>\n",
              "      <td>63</td>\n",
              "      <td>65</td>\n",
              "      <td>23.87</td>\n",
              "      <td>24.67</td>\n",
              "    </tr>\n",
              "    <tr>\n",
              "      <th>38</th>\n",
              "      <td>F</td>\n",
              "      <td>54</td>\n",
              "      <td>56</td>\n",
              "      <td>18.61</td>\n",
              "      <td>19.34</td>\n",
              "    </tr>\n",
              "    <tr>\n",
              "      <th>39</th>\n",
              "      <td>F</td>\n",
              "      <td>56</td>\n",
              "      <td>58</td>\n",
              "      <td>21.73</td>\n",
              "      <td>22.58</td>\n",
              "    </tr>\n",
              "    <tr>\n",
              "      <th>43</th>\n",
              "      <td>F</td>\n",
              "      <td>63</td>\n",
              "      <td>66</td>\n",
              "      <td>21.89</td>\n",
              "      <td>22.79</td>\n",
              "    </tr>\n",
              "    <tr>\n",
              "      <th>44</th>\n",
              "      <td>F</td>\n",
              "      <td>51</td>\n",
              "      <td>54</td>\n",
              "      <td>18.31</td>\n",
              "      <td>19.28</td>\n",
              "    </tr>\n",
              "    <tr>\n",
              "      <th>45</th>\n",
              "      <td>F</td>\n",
              "      <td>59</td>\n",
              "      <td>62</td>\n",
              "      <td>19.64</td>\n",
              "      <td>20.63</td>\n",
              "    </tr>\n",
              "    <tr>\n",
              "      <th>46</th>\n",
              "      <td>F</td>\n",
              "      <td>65</td>\n",
              "      <td>68</td>\n",
              "      <td>23.02</td>\n",
              "      <td>24.10</td>\n",
              "    </tr>\n",
              "    <tr>\n",
              "      <th>47</th>\n",
              "      <td>F</td>\n",
              "      <td>53</td>\n",
              "      <td>56</td>\n",
              "      <td>20.63</td>\n",
              "      <td>21.91</td>\n",
              "    </tr>\n",
              "    <tr>\n",
              "      <th>48</th>\n",
              "      <td>F</td>\n",
              "      <td>62</td>\n",
              "      <td>65</td>\n",
              "      <td>22.61</td>\n",
              "      <td>23.81</td>\n",
              "    </tr>\n",
              "    <tr>\n",
              "      <th>49</th>\n",
              "      <td>F</td>\n",
              "      <td>55</td>\n",
              "      <td>58</td>\n",
              "      <td>22.03</td>\n",
              "      <td>23.42</td>\n",
              "    </tr>\n",
              "    <tr>\n",
              "      <th>54</th>\n",
              "      <td>F</td>\n",
              "      <td>57</td>\n",
              "      <td>61</td>\n",
              "      <td>23.47</td>\n",
              "      <td>25.11</td>\n",
              "    </tr>\n",
              "    <tr>\n",
              "      <th>55</th>\n",
              "      <td>F</td>\n",
              "      <td>64</td>\n",
              "      <td>68</td>\n",
              "      <td>22.84</td>\n",
              "      <td>24.29</td>\n",
              "    </tr>\n",
              "    <tr>\n",
              "      <th>56</th>\n",
              "      <td>F</td>\n",
              "      <td>60</td>\n",
              "      <td>64</td>\n",
              "      <td>19.50</td>\n",
              "      <td>20.90</td>\n",
              "    </tr>\n",
              "    <tr>\n",
              "      <th>59</th>\n",
              "      <td>F</td>\n",
              "      <td>52</td>\n",
              "      <td>57</td>\n",
              "      <td>17.72</td>\n",
              "      <td>19.42</td>\n",
              "    </tr>\n",
              "    <tr>\n",
              "      <th>61</th>\n",
              "      <td>F</td>\n",
              "      <td>55</td>\n",
              "      <td>60</td>\n",
              "      <td>21.64</td>\n",
              "      <td>23.81</td>\n",
              "    </tr>\n",
              "    <tr>\n",
              "      <th>64</th>\n",
              "      <td>F</td>\n",
              "      <td>42</td>\n",
              "      <td>49</td>\n",
              "      <td>15.08</td>\n",
              "      <td>17.74</td>\n",
              "    </tr>\n",
              "  </tbody>\n",
              "</table>\n",
              "</div>"
            ],
            "text/plain": [
              "   Sex   \"Weight (Sep)\"   \"Weight (Apr)\"   \"BMI (Sep)\"   \"BMI (Apr)\"\n",
              "4    F               68               64         21.51         20.10\n",
              "6    F               64               60         24.24         22.88\n",
              "7    F               56               53         21.23         20.23\n",
              "8    F               70               68         30.26         29.24\n",
              "9    F               58               56         21.88         21.02\n",
              "10   F               50               47         17.63         16.89\n",
              "13   F               56               55         20.97         20.36\n",
              "14   F               70               68         27.30         26.73\n",
              "15   F               61               60         23.30         22.88\n",
              "16   F               53               52         19.48         19.24\n",
              "18   F               57               58         20.69         20.79\n",
              "20   F               58               58         21.09         21.24\n",
              "21   F               49               50         18.37         18.53\n",
              "23   F               69               69         28.17         28.43\n",
              "27   F               52               53         19.31         19.75\n",
              "29   F               63               64         21.78         22.22\n",
              "30   F               56               57         19.78         20.23\n",
              "33   F               54               56         20.15         20.69\n",
              "36   F               57               59         22.15         22.93\n",
              "37   F               63               65         23.87         24.67\n",
              "38   F               54               56         18.61         19.34\n",
              "39   F               56               58         21.73         22.58\n",
              "43   F               63               66         21.89         22.79\n",
              "44   F               51               54         18.31         19.28\n",
              "45   F               59               62         19.64         20.63\n",
              "46   F               65               68         23.02         24.10\n",
              "47   F               53               56         20.63         21.91\n",
              "48   F               62               65         22.61         23.81\n",
              "49   F               55               58         22.03         23.42\n",
              "54   F               57               61         23.47         25.11\n",
              "55   F               64               68         22.84         24.29\n",
              "56   F               60               64         19.50         20.90\n",
              "59   F               52               57         17.72         19.42\n",
              "61   F               55               60         21.64         23.81\n",
              "64   F               42               49         15.08         17.74"
            ]
          },
          "metadata": {},
          "execution_count": 49
        }
      ]
    },
    {
      "cell_type": "markdown",
      "metadata": {
        "id": "vXplXWBV-mA8"
      },
      "source": [
        "## Visualisasi Data"
      ]
    },
    {
      "cell_type": "markdown",
      "metadata": {
        "id": "6NobwuVw-v3k"
      },
      "source": [
        "### Dengan Matplotlib"
      ]
    },
    {
      "cell_type": "code",
      "metadata": {
        "id": "aiQmw5bZDG4b"
      },
      "source": [
        "import matplotlib.pyplot as plt"
      ],
      "execution_count": 50,
      "outputs": []
    },
    {
      "cell_type": "code",
      "metadata": {
        "id": "_G4GenFmDHph",
        "colab": {
          "base_uri": "https://localhost:8080/",
          "height": 355
        },
        "outputId": "f1629a02-a775-4024-cd63-dfe4d063cf06"
      },
      "source": [
        "#Line Chart\n",
        "df6[[' \"Weight (Sep)\"', ' \"BMI (Sep)\"']].plot(kind='line', \n",
        "             figsize=(10, 5))\n",
        "\n",
        "plt.title('Perbandingan berat dan BMI bulan september', fontsize = 20)\n",
        "plt.ylabel('nilai', fontsize = 10)\n",
        "plt.xlabel('peserta', fontsize = 10)\n",
        "\n",
        "plt.show()"
      ],
      "execution_count": 51,
      "outputs": [
        {
          "output_type": "display_data",
          "data": {
            "image/png": "[encoded data removed]",
            "text/plain": [
              "<Figure size 720x360 with 1 Axes>"
            ]
          },
          "metadata": {
            "needs_background": "light"
          }
        }
      ]
    },
    {
      "cell_type": "code",
      "metadata": {
        "id": "l5YpGzJ4Laub",
        "colab": {
          "base_uri": "https://localhost:8080/",
          "height": 409
        },
        "outputId": "115d360c-6adf-4a96-ffde-88916be95225"
      },
      "source": [
        "#ScatterPlot\n",
        "df6[[' \"Weight (Sep)\"', ' \"Weight (Apr)\"']].plot(kind='scatter', x=' \"Weight (Sep)\"', y=' \"Weight (Apr)\"', \n",
        "                                                 figsize=(10, 6), color='darkblue')\n",
        "\n",
        "plt.title('Hubungan berat badan bulan september dan april', fontsize = 20)\n",
        "plt.ylabel('April', fontsize = 10)\n",
        "plt.xlabel('September', fontsize = 10)\n",
        "\n",
        "plt.show()"
      ],
      "execution_count": 52,
      "outputs": [
        {
          "output_type": "display_data",
          "data": {
            "image/png": "[encoded data removed]",
            "text/plain": [
              "<Figure size 720x432 with 1 Axes>"
            ]
          },
          "metadata": {
            "needs_background": "light"
          }
        }
      ]
    },
    {
      "cell_type": "markdown",
      "metadata": {
        "id": "py8d7sL__JVC"
      },
      "source": [
        "Scatter plotnya seperti membentuk garis lurus miring kanan, artinya hubungan berat badan bulan april dan september erat dan positif (selengkapnya akan dipelajari di materi eksplorasi data)"
      ]
    },
    {
      "cell_type": "code",
      "metadata": {
        "id": "6OW8qF9l-3GO",
        "colab": {
          "base_uri": "https://localhost:8080/",
          "height": 350
        },
        "outputId": "faefde5d-a4c6-4356-c9c8-a47043792606"
      },
      "source": [
        "#Histogram\n",
        "df6[' \"Weight (Apr)\"'].plot(kind='hist', figsize=(7, 5))\n",
        "\n",
        "plt.title('Histogram dari berat badan bulan april')\n",
        "plt.ylabel('frequensi')\n",
        "plt.xlabel('berat')\n",
        "\n",
        "plt.show()"
      ],
      "execution_count": 53,
      "outputs": [
        {
          "output_type": "display_data",
          "data": {
            "image/png": "[encoded data removed]",
            "text/plain": [
              "<Figure size 504x360 with 1 Axes>"
            ]
          },
          "metadata": {
            "needs_background": "light"
          }
        }
      ]
    },
    {
      "cell_type": "code",
      "metadata": {
        "id": "OFdFu9AsJ4ei",
        "colab": {
          "base_uri": "https://localhost:8080/",
          "height": 336
        },
        "outputId": "e79721ba-c967-42ab-872f-10f674ebf442"
      },
      "source": [
        "rata2berat_lk = df6[df6['Sex']=='M'][' \"Weight (Sep)\"'].mean()\n",
        "rata2berat_pr = df6[df6['Sex']=='F'][' \"Weight (Sep)\"'].mean()\n",
        "\n",
        "fig = plt.figure(figsize =(7, 5))\n",
        "plt.title('Bar Chart dari rata-rata berat badan Laki-laki dan Perempuan bulan September')\n",
        "berat = [rata2berat_lk, rata2berat_pr]\n",
        "bars = ('laki-laki', 'perempuan')\n",
        "kelompok = np.arange(len(bars))\n",
        "\n",
        "plt.bar(kelompok, berat)\n",
        "plt.xticks(kelompok, bars)\n",
        "\n",
        "plt.show()"
      ],
      "execution_count": 54,
      "outputs": [
        {
          "output_type": "display_data",
          "data": {
            "image/png": "[encoded data removed]",
            "text/plain": [
              "<Figure size 504x360 with 1 Axes>"
            ]
          },
          "metadata": {
            "needs_background": "light"
          }
        }
      ]
    },
    {
      "cell_type": "code",
      "metadata": {
        "id": "ov4Tv--0NV7v",
        "colab": {
          "base_uri": "https://localhost:8080/",
          "height": 303
        },
        "outputId": "65bf1ecf-56ad-40dd-a9e6-e045e15ffb20"
      },
      "source": [
        "# Pie chart\n",
        "labels = 'Laki-laki', 'Perempuan'\n",
        "jlh_anggota = np.array([len(df6[df6['Sex'] == 'M']), len(df6[df6['Sex'] == 'F'])])\n",
        "colors = ['blue', 'pink']\n",
        "fig = plt.figure(figsize =(7, 5))\n",
        "plt.pie(jlh_anggota, labels = labels, colors=colors)\n",
        "plt.show()"
      ],
      "execution_count": 55,
      "outputs": [
        {
          "output_type": "display_data",
          "data": {
            "image/png": "[encoded data removed]",
            "text/plain": [
              "<Figure size 504x360 with 1 Axes>"
            ]
          },
          "metadata": {}
        }
      ]
    },
    {
      "cell_type": "markdown",
      "metadata": {
        "id": "605babKcSl0c"
      },
      "source": [
        "### Dengan Seaborn"
      ]
    },
    {
      "cell_type": "code",
      "metadata": {
        "id": "7L2EA6EXO-DS"
      },
      "source": [
        "import seaborn as sns"
      ],
      "execution_count": 56,
      "outputs": []
    },
    {
      "cell_type": "code",
      "metadata": {
        "id": "rtfhQSerVEXB",
        "colab": {
          "base_uri": "https://localhost:8080/",
          "height": 284
        },
        "outputId": "d1ec42d6-cfdd-4bde-d6b5-52258abe5b77"
      },
      "source": [
        "#LineChart\n",
        "sns.lineplot(data=df6[[' \"Weight (Sep)\"', ' \"BMI (Sep)\"']])"
      ],
      "execution_count": 57,
      "outputs": [
        {
          "output_type": "execute_result",
          "data": {
            "text/plain": [
              "<matplotlib.axes._subplots.AxesSubplot at 0x7fd48234ae10>"
            ]
          },
          "metadata": {},
          "execution_count": 57
        },
        {
          "output_type": "display_data",
          "data": {
            "image/png": "[encoded data removed]",
            "text/plain": [
              "<Figure size 432x288 with 1 Axes>"
            ]
          },
          "metadata": {
            "needs_background": "light"
          }
        }
      ]
    },
    {
      "cell_type": "code",
      "metadata": {
        "id": "bnXKw0X3VblN",
        "colab": {
          "base_uri": "https://localhost:8080/",
          "height": 386
        },
        "outputId": "8c21d0bf-32d4-4dd5-a6cf-0274e885c055"
      },
      "source": [
        "#ScatterPlot\n",
        "sns.relplot(x=' \"Weight (Sep)\"', y=' \"Weight (Apr)\"', data = df6)"
      ],
      "execution_count": 58,
      "outputs": [
        {
          "output_type": "execute_result",
          "data": {
            "text/plain": [
              "<seaborn.axisgrid.FacetGrid at 0x7fd482270950>"
            ]
          },
          "metadata": {},
          "execution_count": 58
        },
        {
          "output_type": "display_data",
          "data": {
            "image/png": "[encoded data removed]",
            "text/plain": [
              "<Figure size 360x360 with 1 Axes>"
            ]
          },
          "metadata": {
            "needs_background": "light"
          }
        }
      ]
    },
    {
      "cell_type": "markdown",
      "metadata": {
        "id": "8E_3ApHG-qIC"
      },
      "source": [
        "Scatter plotnya seperti membentuk garis lurus miring kanan, artinya hubungan berat badan bulan april dan september erat dan positif (selengkapnya akan dipelajari di materi eksplorasi data)"
      ]
    },
    {
      "cell_type": "code",
      "metadata": {
        "id": "ZXq1VYeVWl3b",
        "colab": {
          "base_uri": "https://localhost:8080/",
          "height": 386
        },
        "outputId": "2e5de0dc-4515-453f-d4a3-760c1f3c485a"
      },
      "source": [
        "#Histogram\n",
        "sns.displot(data=df6, x=' \"Weight (Apr)\"',hue=\"Sex\", kde=True)"
      ],
      "execution_count": 59,
      "outputs": [
        {
          "output_type": "execute_result",
          "data": {
            "text/plain": [
              "<seaborn.axisgrid.FacetGrid at 0x7fd48219ec50>"
            ]
          },
          "metadata": {},
          "execution_count": 59
        },
        {
          "output_type": "display_data",
          "data": {
            "image/png": "[encoded data removed]",
            "text/plain": [
              "<Figure size 404.625x360 with 1 Axes>"
            ]
          },
          "metadata": {
            "needs_background": "light"
          }
        }
      ]
    },
    {
      "cell_type": "markdown",
      "metadata": {
        "id": "xR0rzImH-Zso"
      },
      "source": [
        "Terlihat data histogram per kategori laki-laki dan perempuan"
      ]
    },
    {
      "cell_type": "code",
      "metadata": {
        "id": "ceZrdlroX9iG",
        "colab": {
          "base_uri": "https://localhost:8080/",
          "height": 296
        },
        "outputId": "b21388da-4aa3-4e67-a2eb-a6850dfce991"
      },
      "source": [
        "#boxplot\n",
        "sns.boxplot(data=df6, x=' \"Weight (Apr)\"')"
      ],
      "execution_count": 60,
      "outputs": [
        {
          "output_type": "execute_result",
          "data": {
            "text/plain": [
              "<matplotlib.axes._subplots.AxesSubplot at 0x7fd48219e950>"
            ]
          },
          "metadata": {},
          "execution_count": 60
        },
        {
          "output_type": "display_data",
          "data": {
            "image/png": "[encoded data removed]",
            "text/plain": [
              "<Figure size 432x288 with 1 Axes>"
            ]
          },
          "metadata": {
            "needs_background": "light"
          }
        }
      ]
    },
    {
      "cell_type": "markdown",
      "metadata": {
        "id": "6ovdYy-C97ch"
      },
      "source": [
        "Terlihat ada outlier di bagian atas"
      ]
    },
    {
      "cell_type": "code",
      "metadata": {
        "id": "deZlR5nPZndA",
        "colab": {
          "base_uri": "https://localhost:8080/",
          "height": 386
        },
        "outputId": "dd0e9d29-e5b2-4096-829c-3e23a1449b0e"
      },
      "source": [
        "#Catplot\n",
        "sns.catplot(data=df6, x='Sex', y=' \"Weight (Apr)\"')"
      ],
      "execution_count": 61,
      "outputs": [
        {
          "output_type": "execute_result",
          "data": {
            "text/plain": [
              "<seaborn.axisgrid.FacetGrid at 0x7fd48225b7d0>"
            ]
          },
          "metadata": {},
          "execution_count": 61
        },
        {
          "output_type": "display_data",
          "data": {
            "image/png": "[encoded data removed]",
            "text/plain": [
              "<Figure size 360x360 with 1 Axes>"
            ]
          },
          "metadata": {
            "needs_background": "light"
          }
        }
      ]
    },
    {
      "cell_type": "markdown",
      "metadata": {
        "id": "DG0yiNxx-O9V"
      },
      "source": [
        "Sebaran data berat badan bulan april per kategori laki-laki dan perempuan"
      ]
    },
    {
      "cell_type": "code",
      "metadata": {
        "id": "QZdj2rxDbpze",
        "colab": {
          "base_uri": "https://localhost:8080/",
          "height": 395
        },
        "outputId": "ab0575e1-3a45-42f9-be08-d0d97105210b"
      },
      "source": [
        "#HeatmapKorelasi\n",
        "corrmat = df6.corr()\n",
        "f, ax = plt.subplots(figsize=(9, 6))\n",
        "sns.heatmap(corrmat, vmax=1)"
      ],
      "execution_count": 62,
      "outputs": [
        {
          "output_type": "execute_result",
          "data": {
            "text/plain": [
              "<matplotlib.axes._subplots.AxesSubplot at 0x7fd48010d5d0>"
            ]
          },
          "metadata": {},
          "execution_count": 62
        },
        {
          "output_type": "display_data",
          "data": {
            "image/png": "[encoded data removed]",
            "text/plain": [
              "<Figure size 648x432 with 2 Axes>"
            ]
          },
          "metadata": {
            "needs_background": "light"
          }
        }
      ]
    },
    {
      "cell_type": "markdown",
      "metadata": {
        "id": "1PbfvIND9tlJ"
      },
      "source": [
        "Warna merepresentasikan keeratan hubungan, bisa diliat di nilai hubungan/korelasinya bisa dilihat di penggaris sebelahnya"
      ]
    },
    {
      "cell_type": "markdown",
      "metadata": {
        "id": "DHsEXxrbcYxH"
      },
      "source": [
        "### Latihan-6 (Visualisasi data)\n",
        "\n",
        "Gunakan data dari: https://people.sc.fsu.edu/~jburkardt/data/csv/cities.csv\n",
        "\n",
        "Cari:\n",
        "*   Deskriptif data\n",
        "*   beberapa visualisasi datanya\n"
      ]
    },
    {
      "cell_type": "code",
      "metadata": {
        "id": "vxXMS8aOec-f",
        "colab": {
          "base_uri": "https://localhost:8080/",
          "height": 424
        },
        "outputId": "ebb751ab-63e3-40aa-fad3-322775c346d4"
      },
      "source": [
        "#Contoh mengimport dari web\n",
        "url = 'https://people.sc.fsu.edu/~jburkardt/data/csv/cities.csv'\n",
        "df = pd.read_csv(url)\n",
        "\n",
        "df"
      ],
      "execution_count": 63,
      "outputs": [
        {
          "output_type": "execute_result",
          "data": {
            "text/html": [
              "<div>\n",
              "<style scoped>\n",
              "    .dataframe tbody tr th:only-of-type {\n",
              "        vertical-align: middle;\n",
              "    }\n",
              "\n",
              "    .dataframe tbody tr th {\n",
              "        vertical-align: top;\n",
              "    }\n",
              "\n",
              "    .dataframe thead th {\n",
              "        text-align: right;\n",
              "    }\n",
              "</style>\n",
              "<table border=\"1\" class=\"dataframe\">\n",
              "  <thead>\n",
              "    <tr style=\"text-align: right;\">\n",
              "      <th></th>\n",
              "      <th>LatD</th>\n",
              "      <th>\"LatM\"</th>\n",
              "      <th>\"LatS\"</th>\n",
              "      <th>\"NS\"</th>\n",
              "      <th>\"LonD\"</th>\n",
              "      <th>\"LonM\"</th>\n",
              "      <th>\"LonS\"</th>\n",
              "      <th>\"EW\"</th>\n",
              "      <th>\"City\"</th>\n",
              "      <th>\"State\"</th>\n",
              "    </tr>\n",
              "  </thead>\n",
              "  <tbody>\n",
              "    <tr>\n",
              "      <th>0</th>\n",
              "      <td>41</td>\n",
              "      <td>5</td>\n",
              "      <td>59</td>\n",
              "      <td>\"N\"</td>\n",
              "      <td>80</td>\n",
              "      <td>39</td>\n",
              "      <td>0</td>\n",
              "      <td>\"W\"</td>\n",
              "      <td>\"Youngstown\"</td>\n",
              "      <td>OH</td>\n",
              "    </tr>\n",
              "    <tr>\n",
              "      <th>1</th>\n",
              "      <td>42</td>\n",
              "      <td>52</td>\n",
              "      <td>48</td>\n",
              "      <td>\"N\"</td>\n",
              "      <td>97</td>\n",
              "      <td>23</td>\n",
              "      <td>23</td>\n",
              "      <td>\"W\"</td>\n",
              "      <td>\"Yankton\"</td>\n",
              "      <td>SD</td>\n",
              "    </tr>\n",
              "    <tr>\n",
              "      <th>2</th>\n",
              "      <td>46</td>\n",
              "      <td>35</td>\n",
              "      <td>59</td>\n",
              "      <td>\"N\"</td>\n",
              "      <td>120</td>\n",
              "      <td>30</td>\n",
              "      <td>36</td>\n",
              "      <td>\"W\"</td>\n",
              "      <td>\"Yakima\"</td>\n",
              "      <td>WA</td>\n",
              "    </tr>\n",
              "    <tr>\n",
              "      <th>3</th>\n",
              "      <td>42</td>\n",
              "      <td>16</td>\n",
              "      <td>12</td>\n",
              "      <td>\"N\"</td>\n",
              "      <td>71</td>\n",
              "      <td>48</td>\n",
              "      <td>0</td>\n",
              "      <td>\"W\"</td>\n",
              "      <td>\"Worcester\"</td>\n",
              "      <td>MA</td>\n",
              "    </tr>\n",
              "    <tr>\n",
              "      <th>4</th>\n",
              "      <td>43</td>\n",
              "      <td>37</td>\n",
              "      <td>48</td>\n",
              "      <td>\"N\"</td>\n",
              "      <td>89</td>\n",
              "      <td>46</td>\n",
              "      <td>11</td>\n",
              "      <td>\"W\"</td>\n",
              "      <td>\"Wisconsin Dells\"</td>\n",
              "      <td>WI</td>\n",
              "    </tr>\n",
              "    <tr>\n",
              "      <th>...</th>\n",
              "      <td>...</td>\n",
              "      <td>...</td>\n",
              "      <td>...</td>\n",
              "      <td>...</td>\n",
              "      <td>...</td>\n",
              "      <td>...</td>\n",
              "      <td>...</td>\n",
              "      <td>...</td>\n",
              "      <td>...</td>\n",
              "      <td>...</td>\n",
              "    </tr>\n",
              "    <tr>\n",
              "      <th>123</th>\n",
              "      <td>39</td>\n",
              "      <td>31</td>\n",
              "      <td>12</td>\n",
              "      <td>\"N\"</td>\n",
              "      <td>119</td>\n",
              "      <td>48</td>\n",
              "      <td>35</td>\n",
              "      <td>\"W\"</td>\n",
              "      <td>\"Reno\"</td>\n",
              "      <td>NV</td>\n",
              "    </tr>\n",
              "    <tr>\n",
              "      <th>124</th>\n",
              "      <td>50</td>\n",
              "      <td>25</td>\n",
              "      <td>11</td>\n",
              "      <td>\"N\"</td>\n",
              "      <td>104</td>\n",
              "      <td>39</td>\n",
              "      <td>0</td>\n",
              "      <td>\"W\"</td>\n",
              "      <td>\"Regina\"</td>\n",
              "      <td>SA</td>\n",
              "    </tr>\n",
              "    <tr>\n",
              "      <th>125</th>\n",
              "      <td>40</td>\n",
              "      <td>10</td>\n",
              "      <td>48</td>\n",
              "      <td>\"N\"</td>\n",
              "      <td>122</td>\n",
              "      <td>14</td>\n",
              "      <td>23</td>\n",
              "      <td>\"W\"</td>\n",
              "      <td>\"Red Bluff\"</td>\n",
              "      <td>CA</td>\n",
              "    </tr>\n",
              "    <tr>\n",
              "      <th>126</th>\n",
              "      <td>40</td>\n",
              "      <td>19</td>\n",
              "      <td>48</td>\n",
              "      <td>\"N\"</td>\n",
              "      <td>75</td>\n",
              "      <td>55</td>\n",
              "      <td>48</td>\n",
              "      <td>\"W\"</td>\n",
              "      <td>\"Reading\"</td>\n",
              "      <td>PA</td>\n",
              "    </tr>\n",
              "    <tr>\n",
              "      <th>127</th>\n",
              "      <td>41</td>\n",
              "      <td>9</td>\n",
              "      <td>35</td>\n",
              "      <td>\"N\"</td>\n",
              "      <td>81</td>\n",
              "      <td>14</td>\n",
              "      <td>23</td>\n",
              "      <td>\"W\"</td>\n",
              "      <td>\"Ravenna\"</td>\n",
              "      <td>OH</td>\n",
              "    </tr>\n",
              "  </tbody>\n",
              "</table>\n",
              "<p>128 rows × 10 columns</p>\n",
              "</div>"
            ],
            "text/plain": [
              "     LatD   \"LatM\"   \"LatS\"  \"NS\"  ...   \"LonS\"   \"EW\"              \"City\"  \"State\"\n",
              "0      41        5       59   \"N\"  ...        0    \"W\"        \"Youngstown\"       OH\n",
              "1      42       52       48   \"N\"  ...       23    \"W\"           \"Yankton\"       SD\n",
              "2      46       35       59   \"N\"  ...       36    \"W\"            \"Yakima\"       WA\n",
              "3      42       16       12   \"N\"  ...        0    \"W\"         \"Worcester\"       MA\n",
              "4      43       37       48   \"N\"  ...       11    \"W\"   \"Wisconsin Dells\"       WI\n",
              "..    ...      ...      ...   ...  ...      ...    ...                 ...      ...\n",
              "123    39       31       12   \"N\"  ...       35    \"W\"              \"Reno\"       NV\n",
              "124    50       25       11   \"N\"  ...        0    \"W\"            \"Regina\"       SA\n",
              "125    40       10       48   \"N\"  ...       23    \"W\"         \"Red Bluff\"       CA\n",
              "126    40       19       48   \"N\"  ...       48    \"W\"           \"Reading\"       PA\n",
              "127    41        9       35   \"N\"  ...       23    \"W\"           \"Ravenna\"      OH \n",
              "\n",
              "[128 rows x 10 columns]"
            ]
          },
          "metadata": {},
          "execution_count": 63
        }
      ]
    },
    {
      "cell_type": "code",
      "metadata": {
        "id": "ie4nKmFdDp7p",
        "colab": {
          "base_uri": "https://localhost:8080/",
          "height": 206
        },
        "outputId": "d5c83400-c756-479b-99a5-516566577aea"
      },
      "source": [
        "df.head()"
      ],
      "execution_count": 64,
      "outputs": [
        {
          "output_type": "execute_result",
          "data": {
            "text/html": [
              "<div>\n",
              "<style scoped>\n",
              "    .dataframe tbody tr th:only-of-type {\n",
              "        vertical-align: middle;\n",
              "    }\n",
              "\n",
              "    .dataframe tbody tr th {\n",
              "        vertical-align: top;\n",
              "    }\n",
              "\n",
              "    .dataframe thead th {\n",
              "        text-align: right;\n",
              "    }\n",
              "</style>\n",
              "<table border=\"1\" class=\"dataframe\">\n",
              "  <thead>\n",
              "    <tr style=\"text-align: right;\">\n",
              "      <th></th>\n",
              "      <th>LatD</th>\n",
              "      <th>\"LatM\"</th>\n",
              "      <th>\"LatS\"</th>\n",
              "      <th>\"NS\"</th>\n",
              "      <th>\"LonD\"</th>\n",
              "      <th>\"LonM\"</th>\n",
              "      <th>\"LonS\"</th>\n",
              "      <th>\"EW\"</th>\n",
              "      <th>\"City\"</th>\n",
              "      <th>\"State\"</th>\n",
              "    </tr>\n",
              "  </thead>\n",
              "  <tbody>\n",
              "    <tr>\n",
              "      <th>0</th>\n",
              "      <td>41</td>\n",
              "      <td>5</td>\n",
              "      <td>59</td>\n",
              "      <td>\"N\"</td>\n",
              "      <td>80</td>\n",
              "      <td>39</td>\n",
              "      <td>0</td>\n",
              "      <td>\"W\"</td>\n",
              "      <td>\"Youngstown\"</td>\n",
              "      <td>OH</td>\n",
              "    </tr>\n",
              "    <tr>\n",
              "      <th>1</th>\n",
              "      <td>42</td>\n",
              "      <td>52</td>\n",
              "      <td>48</td>\n",
              "      <td>\"N\"</td>\n",
              "      <td>97</td>\n",
              "      <td>23</td>\n",
              "      <td>23</td>\n",
              "      <td>\"W\"</td>\n",
              "      <td>\"Yankton\"</td>\n",
              "      <td>SD</td>\n",
              "    </tr>\n",
              "    <tr>\n",
              "      <th>2</th>\n",
              "      <td>46</td>\n",
              "      <td>35</td>\n",
              "      <td>59</td>\n",
              "      <td>\"N\"</td>\n",
              "      <td>120</td>\n",
              "      <td>30</td>\n",
              "      <td>36</td>\n",
              "      <td>\"W\"</td>\n",
              "      <td>\"Yakima\"</td>\n",
              "      <td>WA</td>\n",
              "    </tr>\n",
              "    <tr>\n",
              "      <th>3</th>\n",
              "      <td>42</td>\n",
              "      <td>16</td>\n",
              "      <td>12</td>\n",
              "      <td>\"N\"</td>\n",
              "      <td>71</td>\n",
              "      <td>48</td>\n",
              "      <td>0</td>\n",
              "      <td>\"W\"</td>\n",
              "      <td>\"Worcester\"</td>\n",
              "      <td>MA</td>\n",
              "    </tr>\n",
              "    <tr>\n",
              "      <th>4</th>\n",
              "      <td>43</td>\n",
              "      <td>37</td>\n",
              "      <td>48</td>\n",
              "      <td>\"N\"</td>\n",
              "      <td>89</td>\n",
              "      <td>46</td>\n",
              "      <td>11</td>\n",
              "      <td>\"W\"</td>\n",
              "      <td>\"Wisconsin Dells\"</td>\n",
              "      <td>WI</td>\n",
              "    </tr>\n",
              "  </tbody>\n",
              "</table>\n",
              "</div>"
            ],
            "text/plain": [
              "   LatD   \"LatM\"   \"LatS\"  \"NS\"  ...   \"LonS\"   \"EW\"              \"City\"  \"State\"\n",
              "0    41        5       59   \"N\"  ...        0    \"W\"        \"Youngstown\"       OH\n",
              "1    42       52       48   \"N\"  ...       23    \"W\"           \"Yankton\"       SD\n",
              "2    46       35       59   \"N\"  ...       36    \"W\"            \"Yakima\"       WA\n",
              "3    42       16       12   \"N\"  ...        0    \"W\"         \"Worcester\"       MA\n",
              "4    43       37       48   \"N\"  ...       11    \"W\"   \"Wisconsin Dells\"       WI\n",
              "\n",
              "[5 rows x 10 columns]"
            ]
          },
          "metadata": {},
          "execution_count": 64
        }
      ]
    },
    {
      "cell_type": "code",
      "metadata": {
        "id": "kwUeSHTFDxOF",
        "colab": {
          "base_uri": "https://localhost:8080/",
          "height": 206
        },
        "outputId": "55436894-c751-4078-de28-7128a2d9c103"
      },
      "source": [
        "df.tail()"
      ],
      "execution_count": 65,
      "outputs": [
        {
          "output_type": "execute_result",
          "data": {
            "text/html": [
              "<div>\n",
              "<style scoped>\n",
              "    .dataframe tbody tr th:only-of-type {\n",
              "        vertical-align: middle;\n",
              "    }\n",
              "\n",
              "    .dataframe tbody tr th {\n",
              "        vertical-align: top;\n",
              "    }\n",
              "\n",
              "    .dataframe thead th {\n",
              "        text-align: right;\n",
              "    }\n",
              "</style>\n",
              "<table border=\"1\" class=\"dataframe\">\n",
              "  <thead>\n",
              "    <tr style=\"text-align: right;\">\n",
              "      <th></th>\n",
              "      <th>LatD</th>\n",
              "      <th>\"LatM\"</th>\n",
              "      <th>\"LatS\"</th>\n",
              "      <th>\"NS\"</th>\n",
              "      <th>\"LonD\"</th>\n",
              "      <th>\"LonM\"</th>\n",
              "      <th>\"LonS\"</th>\n",
              "      <th>\"EW\"</th>\n",
              "      <th>\"City\"</th>\n",
              "      <th>\"State\"</th>\n",
              "    </tr>\n",
              "  </thead>\n",
              "  <tbody>\n",
              "    <tr>\n",
              "      <th>123</th>\n",
              "      <td>39</td>\n",
              "      <td>31</td>\n",
              "      <td>12</td>\n",
              "      <td>\"N\"</td>\n",
              "      <td>119</td>\n",
              "      <td>48</td>\n",
              "      <td>35</td>\n",
              "      <td>\"W\"</td>\n",
              "      <td>\"Reno\"</td>\n",
              "      <td>NV</td>\n",
              "    </tr>\n",
              "    <tr>\n",
              "      <th>124</th>\n",
              "      <td>50</td>\n",
              "      <td>25</td>\n",
              "      <td>11</td>\n",
              "      <td>\"N\"</td>\n",
              "      <td>104</td>\n",
              "      <td>39</td>\n",
              "      <td>0</td>\n",
              "      <td>\"W\"</td>\n",
              "      <td>\"Regina\"</td>\n",
              "      <td>SA</td>\n",
              "    </tr>\n",
              "    <tr>\n",
              "      <th>125</th>\n",
              "      <td>40</td>\n",
              "      <td>10</td>\n",
              "      <td>48</td>\n",
              "      <td>\"N\"</td>\n",
              "      <td>122</td>\n",
              "      <td>14</td>\n",
              "      <td>23</td>\n",
              "      <td>\"W\"</td>\n",
              "      <td>\"Red Bluff\"</td>\n",
              "      <td>CA</td>\n",
              "    </tr>\n",
              "    <tr>\n",
              "      <th>126</th>\n",
              "      <td>40</td>\n",
              "      <td>19</td>\n",
              "      <td>48</td>\n",
              "      <td>\"N\"</td>\n",
              "      <td>75</td>\n",
              "      <td>55</td>\n",
              "      <td>48</td>\n",
              "      <td>\"W\"</td>\n",
              "      <td>\"Reading\"</td>\n",
              "      <td>PA</td>\n",
              "    </tr>\n",
              "    <tr>\n",
              "      <th>127</th>\n",
              "      <td>41</td>\n",
              "      <td>9</td>\n",
              "      <td>35</td>\n",
              "      <td>\"N\"</td>\n",
              "      <td>81</td>\n",
              "      <td>14</td>\n",
              "      <td>23</td>\n",
              "      <td>\"W\"</td>\n",
              "      <td>\"Ravenna\"</td>\n",
              "      <td>OH</td>\n",
              "    </tr>\n",
              "  </tbody>\n",
              "</table>\n",
              "</div>"
            ],
            "text/plain": [
              "     LatD   \"LatM\"   \"LatS\"  \"NS\"  ...   \"LonS\"   \"EW\"        \"City\"  \"State\"\n",
              "123    39       31       12   \"N\"  ...       35    \"W\"        \"Reno\"       NV\n",
              "124    50       25       11   \"N\"  ...        0    \"W\"      \"Regina\"       SA\n",
              "125    40       10       48   \"N\"  ...       23    \"W\"   \"Red Bluff\"       CA\n",
              "126    40       19       48   \"N\"  ...       48    \"W\"     \"Reading\"       PA\n",
              "127    41        9       35   \"N\"  ...       23    \"W\"     \"Ravenna\"      OH \n",
              "\n",
              "[5 rows x 10 columns]"
            ]
          },
          "metadata": {},
          "execution_count": 65
        }
      ]
    },
    {
      "cell_type": "markdown",
      "metadata": {
        "id": "XiRUNGOyD8Ga"
      },
      "source": [
        "### Membuat Deskriptif"
      ]
    },
    {
      "cell_type": "code",
      "metadata": {
        "id": "eNLLL0uzD_1s",
        "colab": {
          "base_uri": "https://localhost:8080/",
          "height": 300
        },
        "outputId": "7c589025-9758-49f6-c70b-73df66f4c197"
      },
      "source": [
        "#DataNumerik\n",
        "df.describe()"
      ],
      "execution_count": 66,
      "outputs": [
        {
          "output_type": "execute_result",
          "data": {
            "text/html": [
              "<div>\n",
              "<style scoped>\n",
              "    .dataframe tbody tr th:only-of-type {\n",
              "        vertical-align: middle;\n",
              "    }\n",
              "\n",
              "    .dataframe tbody tr th {\n",
              "        vertical-align: top;\n",
              "    }\n",
              "\n",
              "    .dataframe thead th {\n",
              "        text-align: right;\n",
              "    }\n",
              "</style>\n",
              "<table border=\"1\" class=\"dataframe\">\n",
              "  <thead>\n",
              "    <tr style=\"text-align: right;\">\n",
              "      <th></th>\n",
              "      <th>LatD</th>\n",
              "      <th>\"LatM\"</th>\n",
              "      <th>\"LatS\"</th>\n",
              "      <th>\"LonD\"</th>\n",
              "      <th>\"LonM\"</th>\n",
              "      <th>\"LonS\"</th>\n",
              "    </tr>\n",
              "  </thead>\n",
              "  <tbody>\n",
              "    <tr>\n",
              "      <th>count</th>\n",
              "      <td>128.000000</td>\n",
              "      <td>128.000000</td>\n",
              "      <td>128.000000</td>\n",
              "      <td>128.000000</td>\n",
              "      <td>128.000000</td>\n",
              "      <td>128.000000</td>\n",
              "    </tr>\n",
              "    <tr>\n",
              "      <th>mean</th>\n",
              "      <td>38.820312</td>\n",
              "      <td>30.765625</td>\n",
              "      <td>27.492188</td>\n",
              "      <td>93.250000</td>\n",
              "      <td>27.742188</td>\n",
              "      <td>26.960938</td>\n",
              "    </tr>\n",
              "    <tr>\n",
              "      <th>std</th>\n",
              "      <td>5.200596</td>\n",
              "      <td>16.426158</td>\n",
              "      <td>18.977814</td>\n",
              "      <td>15.466499</td>\n",
              "      <td>16.927937</td>\n",
              "      <td>18.727807</td>\n",
              "    </tr>\n",
              "    <tr>\n",
              "      <th>min</th>\n",
              "      <td>26.000000</td>\n",
              "      <td>1.000000</td>\n",
              "      <td>0.000000</td>\n",
              "      <td>71.000000</td>\n",
              "      <td>0.000000</td>\n",
              "      <td>0.000000</td>\n",
              "    </tr>\n",
              "    <tr>\n",
              "      <th>25%</th>\n",
              "      <td>35.000000</td>\n",
              "      <td>16.000000</td>\n",
              "      <td>11.000000</td>\n",
              "      <td>80.000000</td>\n",
              "      <td>14.000000</td>\n",
              "      <td>11.000000</td>\n",
              "    </tr>\n",
              "    <tr>\n",
              "      <th>50%</th>\n",
              "      <td>39.000000</td>\n",
              "      <td>31.000000</td>\n",
              "      <td>24.000000</td>\n",
              "      <td>89.500000</td>\n",
              "      <td>26.500000</td>\n",
              "      <td>23.500000</td>\n",
              "    </tr>\n",
              "    <tr>\n",
              "      <th>75%</th>\n",
              "      <td>42.250000</td>\n",
              "      <td>45.000000</td>\n",
              "      <td>47.000000</td>\n",
              "      <td>103.250000</td>\n",
              "      <td>40.250000</td>\n",
              "      <td>47.000000</td>\n",
              "    </tr>\n",
              "    <tr>\n",
              "      <th>max</th>\n",
              "      <td>50.000000</td>\n",
              "      <td>59.000000</td>\n",
              "      <td>59.000000</td>\n",
              "      <td>123.000000</td>\n",
              "      <td>58.000000</td>\n",
              "      <td>59.000000</td>\n",
              "    </tr>\n",
              "  </tbody>\n",
              "</table>\n",
              "</div>"
            ],
            "text/plain": [
              "             LatD      \"LatM\"      \"LatS\"      \"LonD\"      \"LonM\"      \"LonS\"\n",
              "count  128.000000  128.000000  128.000000  128.000000  128.000000  128.000000\n",
              "mean    38.820312   30.765625   27.492188   93.250000   27.742188   26.960938\n",
              "std      5.200596   16.426158   18.977814   15.466499   16.927937   18.727807\n",
              "min     26.000000    1.000000    0.000000   71.000000    0.000000    0.000000\n",
              "25%     35.000000   16.000000   11.000000   80.000000   14.000000   11.000000\n",
              "50%     39.000000   31.000000   24.000000   89.500000   26.500000   23.500000\n",
              "75%     42.250000   45.000000   47.000000  103.250000   40.250000   47.000000\n",
              "max     50.000000   59.000000   59.000000  123.000000   58.000000   59.000000"
            ]
          },
          "metadata": {},
          "execution_count": 66
        }
      ]
    },
    {
      "cell_type": "code",
      "metadata": {
        "id": "Np5_f48BEIx5",
        "colab": {
          "base_uri": "https://localhost:8080/",
          "height": 403
        },
        "outputId": "6e349e4b-10f7-4403-f18e-9372a82d31be"
      },
      "source": [
        "df.hist()"
      ],
      "execution_count": 67,
      "outputs": [
        {
          "output_type": "execute_result",
          "data": {
            "text/plain": [
              "array([[<matplotlib.axes._subplots.AxesSubplot object at 0x7fd490bf9e50>,\n",
              "        <matplotlib.axes._subplots.AxesSubplot object at 0x7fd47ffb6110>],\n",
              "       [<matplotlib.axes._subplots.AxesSubplot object at 0x7fd47ff68710>,\n",
              "        <matplotlib.axes._subplots.AxesSubplot object at 0x7fd47ff1ed10>],\n",
              "       [<matplotlib.axes._subplots.AxesSubplot object at 0x7fd47fee1350>,\n",
              "        <matplotlib.axes._subplots.AxesSubplot object at 0x7fd47ff17950>]],\n",
              "      dtype=object)"
            ]
          },
          "metadata": {},
          "execution_count": 67
        },
        {
          "output_type": "display_data",
          "data": {
            "image/png": "[encoded data removed]",
            "text/plain": [
              "<Figure size 432x288 with 6 Axes>"
            ]
          },
          "metadata": {
            "needs_background": "light"
          }
        }
      ]
    },
    {
      "cell_type": "code",
      "metadata": {
        "id": "iN1YSmYOEgOH",
        "colab": {
          "base_uri": "https://localhost:8080/",
          "height": 175
        },
        "outputId": "8059df6e-456d-443c-c056-80151705b467"
      },
      "source": [
        "#data non-numerik\n",
        "df.describe(include=[\"object\", \"bool\"]) "
      ],
      "execution_count": 68,
      "outputs": [
        {
          "output_type": "execute_result",
          "data": {
            "text/html": [
              "<div>\n",
              "<style scoped>\n",
              "    .dataframe tbody tr th:only-of-type {\n",
              "        vertical-align: middle;\n",
              "    }\n",
              "\n",
              "    .dataframe tbody tr th {\n",
              "        vertical-align: top;\n",
              "    }\n",
              "\n",
              "    .dataframe thead th {\n",
              "        text-align: right;\n",
              "    }\n",
              "</style>\n",
              "<table border=\"1\" class=\"dataframe\">\n",
              "  <thead>\n",
              "    <tr style=\"text-align: right;\">\n",
              "      <th></th>\n",
              "      <th>\"NS\"</th>\n",
              "      <th>\"EW\"</th>\n",
              "      <th>\"City\"</th>\n",
              "      <th>\"State\"</th>\n",
              "    </tr>\n",
              "  </thead>\n",
              "  <tbody>\n",
              "    <tr>\n",
              "      <th>count</th>\n",
              "      <td>128</td>\n",
              "      <td>128</td>\n",
              "      <td>128</td>\n",
              "      <td>128</td>\n",
              "    </tr>\n",
              "    <tr>\n",
              "      <th>unique</th>\n",
              "      <td>1</td>\n",
              "      <td>1</td>\n",
              "      <td>120</td>\n",
              "      <td>47</td>\n",
              "    </tr>\n",
              "    <tr>\n",
              "      <th>top</th>\n",
              "      <td>\"N\"</td>\n",
              "      <td>\"W\"</td>\n",
              "      <td>\"Springfield\"</td>\n",
              "      <td>CA</td>\n",
              "    </tr>\n",
              "    <tr>\n",
              "      <th>freq</th>\n",
              "      <td>128</td>\n",
              "      <td>128</td>\n",
              "      <td>4</td>\n",
              "      <td>12</td>\n",
              "    </tr>\n",
              "  </tbody>\n",
              "</table>\n",
              "</div>"
            ],
            "text/plain": [
              "        \"NS\"  \"EW\"          \"City\"  \"State\"\n",
              "count    128   128             128      128\n",
              "unique     1     1             120       47\n",
              "top      \"N\"   \"W\"   \"Springfield\"       CA\n",
              "freq     128   128               4       12"
            ]
          },
          "metadata": {},
          "execution_count": 68
        }
      ]
    },
    {
      "cell_type": "code",
      "metadata": {
        "id": "zZo-EBq7ErFk",
        "colab": {
          "base_uri": "https://localhost:8080/"
        },
        "outputId": "6ea2e1ec-84c2-489c-abe9-d1d418cd1148"
      },
      "source": [
        "#List nama kolom\n",
        "df.columns"
      ],
      "execution_count": 69,
      "outputs": [
        {
          "output_type": "execute_result",
          "data": {
            "text/plain": [
              "Index(['LatD', ' \"LatM\"', ' \"LatS\"', ' \"NS\"', ' \"LonD\"', ' \"LonM\"', ' \"LonS\"',\n",
              "       ' \"EW\"', ' \"City\"', ' \"State\"'],\n",
              "      dtype='object')"
            ]
          },
          "metadata": {},
          "execution_count": 69
        }
      ]
    },
    {
      "cell_type": "markdown",
      "metadata": {
        "id": "1C0BUaUKFAKo"
      },
      "source": [
        "### Visualisasi Data dengan Matplotlib"
      ]
    },
    {
      "cell_type": "code",
      "metadata": {
        "id": "9raTS6myE-wL",
        "colab": {
          "base_uri": "https://localhost:8080/",
          "height": 355
        },
        "outputId": "bfaf8d51-a124-43b2-94b2-7d912942b611"
      },
      "source": [
        "#Line Chart\n",
        "df[[' \"LonD\"', ' \"LonM\"']].plot(kind='line', \n",
        "             figsize=(10, 5))\n",
        "\n",
        "plt.title('Perbandingan LonD dan LonM ', fontsize = 20)\n",
        "plt.ylabel('banyak', fontsize = 10)\n",
        "plt.xlabel('data', fontsize = 10)\n",
        "\n",
        "plt.show()"
      ],
      "execution_count": 70,
      "outputs": [
        {
          "output_type": "display_data",
          "data": {
            "image/png": "[encoded data removed]",
            "text/plain": [
              "<Figure size 720x360 with 1 Axes>"
            ]
          },
          "metadata": {
            "needs_background": "light"
          }
        }
      ]
    },
    {
      "cell_type": "code",
      "metadata": {
        "id": "cECDGueiIe5E",
        "colab": {
          "base_uri": "https://localhost:8080/",
          "height": 409
        },
        "cellView": "code",
        "outputId": "864630a3-bbef-4db8-8b9f-341e6a873717"
      },
      "source": [
        "\n",
        "#ScatterPlot\n",
        "df[[' \"LonD\"', ' \"LonM\"']].plot(kind='scatter', x=' \"LonD\"', y=' \"LonM\"', \n",
        "                                                 figsize=(10, 6), color='darkblue')\n",
        "\n",
        "plt.title('Hubungan LonD dan LonM', fontsize = 20)\n",
        "plt.ylabel('LonD', fontsize = 10)\n",
        "plt.xlabel('LonM', fontsize = 10)\n",
        "\n",
        "plt.show()"
      ],
      "execution_count": 71,
      "outputs": [
        {
          "output_type": "display_data",
          "data": {
            "image/png": "[encoded data removed]",
            "text/plain": [
              "<Figure size 720x432 with 1 Axes>"
            ]
          },
          "metadata": {
            "needs_background": "light"
          }
        }
      ]
    },
    {
      "cell_type": "code",
      "metadata": {
        "id": "gMqcukMdJjZF",
        "colab": {
          "base_uri": "https://localhost:8080/",
          "height": 350
        },
        "outputId": "a125a99a-b955-4c2d-f795-fe1fd6ba0c7c"
      },
      "source": [
        "#Histogram\n",
        "df['LatD'].plot(kind='hist', figsize=(7, 5))\n",
        "\n",
        "plt.title('Histogram dari Latitude D')\n",
        "plt.ylabel('frequensi')\n",
        "plt.xlabel('banyak')\n",
        "\n",
        "plt.show()"
      ],
      "execution_count": 72,
      "outputs": [
        {
          "output_type": "display_data",
          "data": {
            "image/png": "[encoded data removed]",
            "text/plain": [
              "<Figure size 504x360 with 1 Axes>"
            ]
          },
          "metadata": {
            "needs_background": "light"
          }
        }
      ]
    },
    {
      "cell_type": "code",
      "metadata": {
        "id": "NJ7RjLLFJwDD",
        "colab": {
          "base_uri": "https://localhost:8080/",
          "height": 336
        },
        "outputId": "37c557f7-e243-4c80-9f84-0405b43461fe"
      },
      "source": [
        "rata2_n = df[df[' \"NS\"']=='N']['LatD'].mean()\n",
        "rata2_s = df[df[' \"NS\"']=='S']['LatD'].mean()\n",
        "\n",
        "fig = plt.figure(figsize =(7, 5))\n",
        "plt.title('Bar Chart dari rata-rata Latitude D bagian Utara dan Selatan')\n",
        "data = [rata2_n, rata2_s]\n",
        "bars = ('Utara', 'Selatan')\n",
        "kelompok = np.arange(len(bars))\n",
        "\n",
        "plt.bar(kelompok, data)\n",
        "plt.xticks(kelompok, bars)\n",
        "\n",
        "plt.show()"
      ],
      "execution_count": 73,
      "outputs": [
        {
          "output_type": "display_data",
          "data": {
            "image/png": "[encoded data removed]",
            "text/plain": [
              "<Figure size 504x360 with 1 Axes>"
            ]
          },
          "metadata": {
            "needs_background": "light"
          }
        }
      ]
    },
    {
      "cell_type": "code",
      "metadata": {
        "colab": {
          "base_uri": "https://localhost:8080/",
          "height": 303
        },
        "id": "2U-wsjB9DYE0",
        "outputId": "f4b46f01-7d42-4fbf-a56f-519f708ebd94"
      },
      "source": [
        "# Pie chart\n",
        "labels = 'Springfield', 'Yokohama'\n",
        "jumlah_anggota = np.array([len(df[df[' \"City\"'] == 'Springfield']), len(df[df[' \"City\"'] == 'Yokohama'])])\n",
        "colors = ['purple', 'orange']\n",
        "fig = plt.figure(figsize =(7, 5))\n",
        "plt.pie(jumlah_anggota, labels = labels, colors=colors)\n",
        "plt.show()"
      ],
      "execution_count": 74,
      "outputs": [
        {
          "output_type": "display_data",
          "data": {
            "image/png": "[encoded data removed]",
            "text/plain": [
              "<Figure size 504x360 with 1 Axes>"
            ]
          },
          "metadata": {}
        }
      ]
    },
    {
      "cell_type": "markdown",
      "metadata": {
        "id": "fyrWibr0FsZA"
      },
      "source": [
        "### Menggunakan Seaborn"
      ]
    },
    {
      "cell_type": "code",
      "metadata": {
        "id": "iGfFdN7tEwew"
      },
      "source": [
        "import seaborn as sns"
      ],
      "execution_count": 75,
      "outputs": []
    },
    {
      "cell_type": "code",
      "metadata": {
        "colab": {
          "base_uri": "https://localhost:8080/",
          "height": 282
        },
        "id": "S6kILztNGO7J",
        "outputId": "b13edc20-9d84-4325-f92e-6975bfffb5ab"
      },
      "source": [
        "#LineChart\n",
        "sns.lineplot(data=df[[' \"LonD\"', ' \"LonM\"']])"
      ],
      "execution_count": 76,
      "outputs": [
        {
          "output_type": "execute_result",
          "data": {
            "text/plain": [
              "<matplotlib.axes._subplots.AxesSubplot at 0x7fd47e327e10>"
            ]
          },
          "metadata": {},
          "execution_count": 76
        },
        {
          "output_type": "display_data",
          "data": {
            "image/png": "[encoded data removed]",
            "text/plain": [
              "<Figure size 432x288 with 1 Axes>"
            ]
          },
          "metadata": {
            "needs_background": "light"
          }
        }
      ]
    },
    {
      "cell_type": "code",
      "metadata": {
        "colab": {
          "base_uri": "https://localhost:8080/",
          "height": 386
        },
        "id": "ADXL1qPKGXRD",
        "outputId": "31f11029-010a-4c93-e2a2-cc982df4e5cf"
      },
      "source": [
        "#ScatterPlot\n",
        "sns.relplot(x=' \"LonD\"', y=' \"LonM\"', data = df)"
      ],
      "execution_count": 77,
      "outputs": [
        {
          "output_type": "execute_result",
          "data": {
            "text/plain": [
              "<seaborn.axisgrid.FacetGrid at 0x7fd47e262b50>"
            ]
          },
          "metadata": {},
          "execution_count": 77
        },
        {
          "output_type": "display_data",
          "data": {
            "image/png": "[encoded data removed]",
            "text/plain": [
              "<Figure size 360x360 with 1 Axes>"
            ]
          },
          "metadata": {
            "needs_background": "light"
          }
        }
      ]
    },
    {
      "cell_type": "code",
      "metadata": {
        "colab": {
          "base_uri": "https://localhost:8080/",
          "height": 1000
        },
        "id": "kT449CGkGjLY",
        "outputId": "736f0fc5-8ebc-477c-a7c6-985a40b1a8e3"
      },
      "source": [
        "#Histogram\n",
        "sns.displot(data=df, x=' \"LonD\"',hue=' \"City\"', kde=True)"
      ],
      "execution_count": 78,
      "outputs": [
        {
          "output_type": "execute_result",
          "data": {
            "text/plain": [
              "<seaborn.axisgrid.FacetGrid at 0x7fd47e371710>"
            ]
          },
          "metadata": {},
          "execution_count": 78
        },
        {
          "output_type": "display_data",
          "data": {
            "image/png": "[encoded data removed]",
            "text/plain": [
              "<Figure size 499.875x360 with 1 Axes>"
            ]
          },
          "metadata": {
            "needs_background": "light"
          }
        }
      ]
    },
    {
      "cell_type": "code",
      "metadata": {
        "colab": {
          "base_uri": "https://localhost:8080/",
          "height": 296
        },
        "id": "JumJYFBfHJ7u",
        "outputId": "9c4bc07b-73b8-4a6d-bdd0-6167d2ba41b7"
      },
      "source": [
        "#boxplot\n",
        "sns.boxplot(data=df, x=' \"LonD\"')"
      ],
      "execution_count": 79,
      "outputs": [
        {
          "output_type": "execute_result",
          "data": {
            "text/plain": [
              "<matplotlib.axes._subplots.AxesSubplot at 0x7fd47da1f050>"
            ]
          },
          "metadata": {},
          "execution_count": 79
        },
        {
          "output_type": "display_data",
          "data": {
            "image/png": "[encoded data removed]",
            "text/plain": [
              "<Figure size 432x288 with 1 Axes>"
            ]
          },
          "metadata": {
            "needs_background": "light"
          }
        }
      ]
    },
    {
      "cell_type": "code",
      "metadata": {
        "colab": {
          "base_uri": "https://localhost:8080/",
          "height": 386
        },
        "id": "bBPclTYWHUwb",
        "outputId": "dec12d24-30e7-4473-d002-9e922c6a6c4b"
      },
      "source": [
        "#Catplot\n",
        "sns.catplot(data=df, x=' \"City\"', y=' \"LonD\"')"
      ],
      "execution_count": 80,
      "outputs": [
        {
          "output_type": "execute_result",
          "data": {
            "text/plain": [
              "<seaborn.axisgrid.FacetGrid at 0x7fd47da68d90>"
            ]
          },
          "metadata": {},
          "execution_count": 80
        },
        {
          "output_type": "display_data",
          "data": {
            "image/png": "[encoded data removed]",
            "text/plain": [
              "<Figure size 360x360 with 1 Axes>"
            ]
          },
          "metadata": {
            "needs_background": "light"
          }
        }
      ]
    },
    {
      "cell_type": "code",
      "metadata": {
        "colab": {
          "base_uri": "https://localhost:8080/",
          "height": 395
        },
        "id": "rHldPQpbHmT4",
        "outputId": "42cbfb3c-cf8e-41a2-b06c-2711cf842ba6"
      },
      "source": [
        "#HeatmapKorelasi\n",
        "corrmat = df.corr()\n",
        "f, ax = plt.subplots(figsize=(9, 6))\n",
        "sns.heatmap(corrmat, vmax=1)"
      ],
      "execution_count": 81,
      "outputs": [
        {
          "output_type": "execute_result",
          "data": {
            "text/plain": [
              "<matplotlib.axes._subplots.AxesSubplot at 0x7fd47d319590>"
            ]
          },
          "metadata": {},
          "execution_count": 81
        },
        {
          "output_type": "display_data",
          "data": {
            "image/png": "[encoded data removed]",
            "text/plain": [
              "<Figure size 648x432 with 2 Axes>"
            ]
          },
          "metadata": {
            "needs_background": "light"
          }
        }
      ]
    }
  ]
}